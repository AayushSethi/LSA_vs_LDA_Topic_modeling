{
 "cells": [
  {
   "cell_type": "markdown",
   "id": "47a152c8",
   "metadata": {},
   "source": [
    "# LSA vs LDA for text classification -- Capstone Project UDM "
   ]
  },
  {
   "cell_type": "code",
   "execution_count": 1,
   "id": "cfe20568",
   "metadata": {},
   "outputs": [],
   "source": [
    "import pandas as pd\n",
    "import numpy as np \n",
    "import os \n",
    "import re\n",
    "import matplotlib.pyplot as plt\n",
    "import matplotlib.mlab as mlab"
   ]
  },
  {
   "cell_type": "code",
   "execution_count": 24,
   "id": "7af7b309",
   "metadata": {},
   "outputs": [
    {
     "data": {
      "text/html": [
       "        <script type=\"text/javascript\">\n",
       "        window.PlotlyConfig = {MathJaxConfig: 'local'};\n",
       "        if (window.MathJax) {MathJax.Hub.Config({SVG: {font: \"STIX-Web\"}});}\n",
       "        if (typeof require !== 'undefined') {\n",
       "        require.undef(\"plotly\");\n",
       "        requirejs.config({\n",
       "            paths: {\n",
       "                'plotly': ['https://cdn.plot.ly/plotly-latest.min']\n",
       "            }\n",
       "        });\n",
       "        require(['plotly'], function(Plotly) {\n",
       "            window._Plotly = Plotly;\n",
       "        });\n",
       "        }\n",
       "        </script>\n",
       "        "
      ]
     },
     "metadata": {},
     "output_type": "display_data"
    }
   ],
   "source": [
    "import plotly.offline as py\n",
    "py.init_notebook_mode(connected=True)\n",
    "import plotly.graph_objs as go\n",
    "import plotly.tools as tls\n",
    "import warnings\n",
    "warnings.filterwarnings(\"ignore\", category=DeprecationWarning)"
   ]
  },
  {
   "cell_type": "code",
   "execution_count": 5,
   "id": "93620adc",
   "metadata": {},
   "outputs": [
    {
     "data": {
      "text/html": [
       "<div>\n",
       "<style scoped>\n",
       "    .dataframe tbody tr th:only-of-type {\n",
       "        vertical-align: middle;\n",
       "    }\n",
       "\n",
       "    .dataframe tbody tr th {\n",
       "        vertical-align: top;\n",
       "    }\n",
       "\n",
       "    .dataframe thead th {\n",
       "        text-align: right;\n",
       "    }\n",
       "</style>\n",
       "<table border=\"1\" class=\"dataframe\">\n",
       "  <thead>\n",
       "    <tr style=\"text-align: right;\">\n",
       "      <th></th>\n",
       "      <th>publish_date</th>\n",
       "      <th>headline_text</th>\n",
       "    </tr>\n",
       "  </thead>\n",
       "  <tbody>\n",
       "    <tr>\n",
       "      <th>0</th>\n",
       "      <td>2003-02-19</td>\n",
       "      <td>aba decides against community broadcasting lic...</td>\n",
       "    </tr>\n",
       "    <tr>\n",
       "      <th>1</th>\n",
       "      <td>2003-02-19</td>\n",
       "      <td>act fire witnesses must be aware of defamation</td>\n",
       "    </tr>\n",
       "    <tr>\n",
       "      <th>2</th>\n",
       "      <td>2003-02-19</td>\n",
       "      <td>a g calls for infrastructure protection summit</td>\n",
       "    </tr>\n",
       "    <tr>\n",
       "      <th>3</th>\n",
       "      <td>2003-02-19</td>\n",
       "      <td>air nz staff in aust strike for pay rise</td>\n",
       "    </tr>\n",
       "    <tr>\n",
       "      <th>4</th>\n",
       "      <td>2003-02-19</td>\n",
       "      <td>air nz strike to affect australian travellers</td>\n",
       "    </tr>\n",
       "  </tbody>\n",
       "</table>\n",
       "</div>"
      ],
      "text/plain": [
       "  publish_date                                      headline_text\n",
       "0   2003-02-19  aba decides against community broadcasting lic...\n",
       "1   2003-02-19     act fire witnesses must be aware of defamation\n",
       "2   2003-02-19     a g calls for infrastructure protection summit\n",
       "3   2003-02-19           air nz staff in aust strike for pay rise\n",
       "4   2003-02-19      air nz strike to affect australian travellers"
      ]
     },
     "execution_count": 5,
     "metadata": {},
     "output_type": "execute_result"
    }
   ],
   "source": [
    "raw_data = pd.read_csv('/Users/aayush/Desktop/UDM/data.csv', parse_dates=[0], infer_datetime_format=True)\n",
    "reindexed_data = raw_data['headline_text']\n",
    "reindexed_data.index = raw_data['publish_date']\n",
    "\n",
    "raw_data.head()"
   ]
  },
  {
   "cell_type": "code",
   "execution_count": 6,
   "id": "35a6416f",
   "metadata": {},
   "outputs": [
    {
     "data": {
      "text/plain": [
       "(1226258, 2)"
      ]
     },
     "execution_count": 6,
     "metadata": {},
     "output_type": "execute_result"
    }
   ],
   "source": [
    "raw_data.shape"
   ]
  },
  {
   "cell_type": "code",
   "execution_count": 16,
   "id": "9bf79bd2",
   "metadata": {},
   "outputs": [],
   "source": [
    "df2 = df"
   ]
  },
  {
   "cell_type": "markdown",
   "id": "0c446868",
   "metadata": {},
   "source": [
    "## Pre-processing Text Data"
   ]
  },
  {
   "cell_type": "code",
   "execution_count": 17,
   "id": "d5c5e9bf",
   "metadata": {},
   "outputs": [],
   "source": [
    "# Dropping all NULL values from the dataset\n",
    "df2 = df2.dropna()\n",
    "\n",
    "# Converting all comments to lower case\n",
    "df2['headline_clean'] = df2['headline_text'].str.lower()\\\n",
    "\n",
    "# Removing all punctuations from the comments like @+#/\\\n",
    "df2['headline_text'] = \\\n",
    "df2['headline_text'].map(lambda x: re.sub('[,\\.!?&/@+-'']', '', x))"
   ]
  },
  {
   "cell_type": "code",
   "execution_count": 18,
   "id": "08a58d5d",
   "metadata": {},
   "outputs": [
    {
     "data": {
      "text/html": [
       "<div>\n",
       "<style scoped>\n",
       "    .dataframe tbody tr th:only-of-type {\n",
       "        vertical-align: middle;\n",
       "    }\n",
       "\n",
       "    .dataframe tbody tr th {\n",
       "        vertical-align: top;\n",
       "    }\n",
       "\n",
       "    .dataframe thead th {\n",
       "        text-align: right;\n",
       "    }\n",
       "</style>\n",
       "<table border=\"1\" class=\"dataframe\">\n",
       "  <thead>\n",
       "    <tr style=\"text-align: right;\">\n",
       "      <th></th>\n",
       "      <th>publish_date</th>\n",
       "      <th>headline_text</th>\n",
       "      <th>headline_clean</th>\n",
       "    </tr>\n",
       "  </thead>\n",
       "  <tbody>\n",
       "    <tr>\n",
       "      <th>0</th>\n",
       "      <td>2003-02-19</td>\n",
       "      <td>aba decides against community broadcasting lic...</td>\n",
       "      <td>aba decides against community broadcasting lic...</td>\n",
       "    </tr>\n",
       "    <tr>\n",
       "      <th>1</th>\n",
       "      <td>2003-02-19</td>\n",
       "      <td>act fire witnesses must be aware of defamation</td>\n",
       "      <td>act fire witnesses must be aware of defamation</td>\n",
       "    </tr>\n",
       "    <tr>\n",
       "      <th>2</th>\n",
       "      <td>2003-02-19</td>\n",
       "      <td>a g calls for infrastructure protection summit</td>\n",
       "      <td>a g calls for infrastructure protection summit</td>\n",
       "    </tr>\n",
       "    <tr>\n",
       "      <th>3</th>\n",
       "      <td>2003-02-19</td>\n",
       "      <td>air nz staff in aust strike for pay rise</td>\n",
       "      <td>air nz staff in aust strike for pay rise</td>\n",
       "    </tr>\n",
       "    <tr>\n",
       "      <th>4</th>\n",
       "      <td>2003-02-19</td>\n",
       "      <td>air nz strike to affect australian travellers</td>\n",
       "      <td>air nz strike to affect australian travellers</td>\n",
       "    </tr>\n",
       "    <tr>\n",
       "      <th>...</th>\n",
       "      <td>...</td>\n",
       "      <td>...</td>\n",
       "      <td>...</td>\n",
       "    </tr>\n",
       "    <tr>\n",
       "      <th>1226253</th>\n",
       "      <td>2020-12-31</td>\n",
       "      <td>what abc readers learned from 2020 looking bac...</td>\n",
       "      <td>what abc readers learned from 2020 looking bac...</td>\n",
       "    </tr>\n",
       "    <tr>\n",
       "      <th>1226254</th>\n",
       "      <td>2020-12-31</td>\n",
       "      <td>what are the south african and uk variants of ...</td>\n",
       "      <td>what are the south african and uk variants of ...</td>\n",
       "    </tr>\n",
       "    <tr>\n",
       "      <th>1226255</th>\n",
       "      <td>2020-12-31</td>\n",
       "      <td>what victorias coronavirus restrictions mean f...</td>\n",
       "      <td>what victorias coronavirus restrictions mean f...</td>\n",
       "    </tr>\n",
       "    <tr>\n",
       "      <th>1226256</th>\n",
       "      <td>2020-12-31</td>\n",
       "      <td>whats life like as an american doctor during c...</td>\n",
       "      <td>whats life like as an american doctor during c...</td>\n",
       "    </tr>\n",
       "    <tr>\n",
       "      <th>1226257</th>\n",
       "      <td>2020-12-31</td>\n",
       "      <td>womens shed canberra reskilling unemployed pan...</td>\n",
       "      <td>womens shed canberra reskilling unemployed pan...</td>\n",
       "    </tr>\n",
       "  </tbody>\n",
       "</table>\n",
       "<p>1226258 rows × 3 columns</p>\n",
       "</div>"
      ],
      "text/plain": [
       "        publish_date                                      headline_text  \\\n",
       "0         2003-02-19  aba decides against community broadcasting lic...   \n",
       "1         2003-02-19     act fire witnesses must be aware of defamation   \n",
       "2         2003-02-19     a g calls for infrastructure protection summit   \n",
       "3         2003-02-19           air nz staff in aust strike for pay rise   \n",
       "4         2003-02-19      air nz strike to affect australian travellers   \n",
       "...              ...                                                ...   \n",
       "1226253   2020-12-31  what abc readers learned from 2020 looking bac...   \n",
       "1226254   2020-12-31  what are the south african and uk variants of ...   \n",
       "1226255   2020-12-31  what victorias coronavirus restrictions mean f...   \n",
       "1226256   2020-12-31  whats life like as an american doctor during c...   \n",
       "1226257   2020-12-31  womens shed canberra reskilling unemployed pan...   \n",
       "\n",
       "                                            headline_clean  \n",
       "0        aba decides against community broadcasting lic...  \n",
       "1           act fire witnesses must be aware of defamation  \n",
       "2           a g calls for infrastructure protection summit  \n",
       "3                 air nz staff in aust strike for pay rise  \n",
       "4            air nz strike to affect australian travellers  \n",
       "...                                                    ...  \n",
       "1226253  what abc readers learned from 2020 looking bac...  \n",
       "1226254  what are the south african and uk variants of ...  \n",
       "1226255  what victorias coronavirus restrictions mean f...  \n",
       "1226256  whats life like as an american doctor during c...  \n",
       "1226257  womens shed canberra reskilling unemployed pan...  \n",
       "\n",
       "[1226258 rows x 3 columns]"
      ]
     },
     "execution_count": 18,
     "metadata": {},
     "output_type": "execute_result"
    }
   ],
   "source": [
    "df2"
   ]
  },
  {
   "cell_type": "code",
   "execution_count": 21,
   "id": "9a2580cc",
   "metadata": {},
   "outputs": [
    {
     "data": {
      "text/html": [
       "<div>\n",
       "<style scoped>\n",
       "    .dataframe tbody tr th:only-of-type {\n",
       "        vertical-align: middle;\n",
       "    }\n",
       "\n",
       "    .dataframe tbody tr th {\n",
       "        vertical-align: top;\n",
       "    }\n",
       "\n",
       "    .dataframe thead th {\n",
       "        text-align: right;\n",
       "    }\n",
       "</style>\n",
       "<table border=\"1\" class=\"dataframe\">\n",
       "  <thead>\n",
       "    <tr style=\"text-align: right;\">\n",
       "      <th></th>\n",
       "      <th>headline_text</th>\n",
       "      <th>headline_clean</th>\n",
       "    </tr>\n",
       "  </thead>\n",
       "  <tbody>\n",
       "    <tr>\n",
       "      <th>0</th>\n",
       "      <td>aba decides against community broadcasting lic...</td>\n",
       "      <td>aba decides community broadcasting licence</td>\n",
       "    </tr>\n",
       "    <tr>\n",
       "      <th>1</th>\n",
       "      <td>act fire witnesses must be aware of defamation</td>\n",
       "      <td>act fire witnesses must aware defamation</td>\n",
       "    </tr>\n",
       "    <tr>\n",
       "      <th>2</th>\n",
       "      <td>a g calls for infrastructure protection summit</td>\n",
       "      <td>g calls infrastructure protection summit</td>\n",
       "    </tr>\n",
       "    <tr>\n",
       "      <th>3</th>\n",
       "      <td>air nz staff in aust strike for pay rise</td>\n",
       "      <td>air nz staff aust strike pay rise</td>\n",
       "    </tr>\n",
       "    <tr>\n",
       "      <th>4</th>\n",
       "      <td>air nz strike to affect australian travellers</td>\n",
       "      <td>air nz strike affect australian travellers</td>\n",
       "    </tr>\n",
       "  </tbody>\n",
       "</table>\n",
       "</div>"
      ],
      "text/plain": [
       "                                       headline_text  \\\n",
       "0  aba decides against community broadcasting lic...   \n",
       "1     act fire witnesses must be aware of defamation   \n",
       "2     a g calls for infrastructure protection summit   \n",
       "3           air nz staff in aust strike for pay rise   \n",
       "4      air nz strike to affect australian travellers   \n",
       "\n",
       "                               headline_clean  \n",
       "0  aba decides community broadcasting licence  \n",
       "1    act fire witnesses must aware defamation  \n",
       "2    g calls infrastructure protection summit  \n",
       "3           air nz staff aust strike pay rise  \n",
       "4  air nz strike affect australian travellers  "
      ]
     },
     "execution_count": 21,
     "metadata": {},
     "output_type": "execute_result"
    }
   ],
   "source": [
    "# Import stopwords with nltk.\n",
    "from nltk.corpus import stopwords\n",
    "stop = stopwords.words('english')\n",
    "\n",
    "\n",
    "\n",
    "# Removing all stop words from comments. \n",
    "df2['headline_clean'] = df2['headline_clean'].apply(lambda x: ' '.join([word for word in x.split() if word not in (stop)]))\n",
    "df2[['headline_text', 'headline_clean']].head()"
   ]
  },
  {
   "cell_type": "code",
   "execution_count": 25,
   "id": "08bbb9a5",
   "metadata": {},
   "outputs": [
    {
     "data": {
      "application/vnd.plotly.v1+json": {
       "config": {
        "linkText": "Export to plot.ly",
        "plotlyServerURL": "https://plot.ly",
        "showLink": false
       },
       "data": [
        {
         "marker": {
          "color": [
           30381,
           23013,
           19994,
           18007,
           17044,
           16901,
           16337,
           15727,
           15381,
           15332,
           13172,
           13041,
           12913,
           12763,
           12713,
           12594,
           12372,
           12225,
           11698,
           11116,
           11089,
           10418,
           10313,
           10208,
           10115,
           9923,
           9648,
           9558,
           9545,
           9503,
           9493,
           9386,
           9364,
           9339,
           9323,
           9283,
           9049,
           9024,
           8972,
           8930,
           8848,
           8772,
           8765,
           8381,
           8369,
           8237,
           8230,
           8107,
           8081,
           7992,
           7974,
           7948,
           7922,
           7908,
           7854,
           7834,
           7810,
           7697,
           7679,
           7648,
           7451,
           7447,
           7392,
           7357,
           7332,
           7295,
           7283,
           7254,
           7234,
           7202,
           7200,
           7173,
           7166,
           7109,
           7065,
           7057,
           6974,
           6969,
           6950,
           6937,
           6924,
           6895,
           6894,
           6877,
           6857,
           6831,
           6804,
           6769,
           6751,
           6729,
           6656,
           6626,
           6581,
           6581,
           6575,
           6502,
           6472,
           6414
          ],
          "colorscale": [
           [
            0,
            "rgb(0,0,131)"
           ],
           [
            0.2,
            "rgb(0,60,170)"
           ],
           [
            0.4,
            "rgb(5,255,255)"
           ],
           [
            0.6,
            "rgb(255,255,0)"
           ],
           [
            0.8,
            "rgb(250,0,0)"
           ],
           [
            1,
            "rgb(128,0,0)"
           ]
          ]
         },
         "type": "bar",
         "x": [
          "man",
          "says",
          "us",
          "court",
          "govt",
          "council",
          "australia",
          "nsw",
          "interview",
          "fire",
          "australian",
          "wa",
          "plan",
          "water",
          "sydney",
          "death",
          "qld",
          "crash",
          "health",
          "charged",
          "back",
          "murder",
          "report",
          "sa",
          "day",
          "call",
          "government",
          "hospital",
          "coast",
          "world",
          "car",
          "may",
          "calls",
          "woman",
          "south",
          "two",
          "election",
          "home",
          "found",
          "win",
          "first",
          "accused",
          "killed",
          "coronavirus",
          "north",
          "china",
          "missing",
          "rural"
         ],
         "y": [
          30381,
          23013,
          19994,
          18007,
          17044,
          16901,
          16337,
          15727,
          15381,
          15332,
          13172,
          13041,
          12913,
          12763,
          12713,
          12594,
          12372,
          12225,
          11698,
          11116,
          11089,
          10418,
          10313,
          10208,
          10115,
          9923,
          9648,
          9558,
          9545,
          9503,
          9493,
          9386,
          9364,
          9339,
          9323,
          9283,
          9049,
          9024,
          8972,
          8930,
          8848,
          8772,
          8765,
          8381,
          8369,
          8237,
          8230,
          8107
         ]
        }
       ],
       "layout": {
        "template": {
         "data": {
          "bar": [
           {
            "error_x": {
             "color": "#2a3f5f"
            },
            "error_y": {
             "color": "#2a3f5f"
            },
            "marker": {
             "line": {
              "color": "#E5ECF6",
              "width": 0.5
             }
            },
            "type": "bar"
           }
          ],
          "barpolar": [
           {
            "marker": {
             "line": {
              "color": "#E5ECF6",
              "width": 0.5
             }
            },
            "type": "barpolar"
           }
          ],
          "carpet": [
           {
            "aaxis": {
             "endlinecolor": "#2a3f5f",
             "gridcolor": "white",
             "linecolor": "white",
             "minorgridcolor": "white",
             "startlinecolor": "#2a3f5f"
            },
            "baxis": {
             "endlinecolor": "#2a3f5f",
             "gridcolor": "white",
             "linecolor": "white",
             "minorgridcolor": "white",
             "startlinecolor": "#2a3f5f"
            },
            "type": "carpet"
           }
          ],
          "choropleth": [
           {
            "colorbar": {
             "outlinewidth": 0,
             "ticks": ""
            },
            "type": "choropleth"
           }
          ],
          "contour": [
           {
            "colorbar": {
             "outlinewidth": 0,
             "ticks": ""
            },
            "colorscale": [
             [
              0,
              "#0d0887"
             ],
             [
              0.1111111111111111,
              "#46039f"
             ],
             [
              0.2222222222222222,
              "#7201a8"
             ],
             [
              0.3333333333333333,
              "#9c179e"
             ],
             [
              0.4444444444444444,
              "#bd3786"
             ],
             [
              0.5555555555555556,
              "#d8576b"
             ],
             [
              0.6666666666666666,
              "#ed7953"
             ],
             [
              0.7777777777777778,
              "#fb9f3a"
             ],
             [
              0.8888888888888888,
              "#fdca26"
             ],
             [
              1,
              "#f0f921"
             ]
            ],
            "type": "contour"
           }
          ],
          "contourcarpet": [
           {
            "colorbar": {
             "outlinewidth": 0,
             "ticks": ""
            },
            "type": "contourcarpet"
           }
          ],
          "heatmap": [
           {
            "colorbar": {
             "outlinewidth": 0,
             "ticks": ""
            },
            "colorscale": [
             [
              0,
              "#0d0887"
             ],
             [
              0.1111111111111111,
              "#46039f"
             ],
             [
              0.2222222222222222,
              "#7201a8"
             ],
             [
              0.3333333333333333,
              "#9c179e"
             ],
             [
              0.4444444444444444,
              "#bd3786"
             ],
             [
              0.5555555555555556,
              "#d8576b"
             ],
             [
              0.6666666666666666,
              "#ed7953"
             ],
             [
              0.7777777777777778,
              "#fb9f3a"
             ],
             [
              0.8888888888888888,
              "#fdca26"
             ],
             [
              1,
              "#f0f921"
             ]
            ],
            "type": "heatmap"
           }
          ],
          "heatmapgl": [
           {
            "colorbar": {
             "outlinewidth": 0,
             "ticks": ""
            },
            "colorscale": [
             [
              0,
              "#0d0887"
             ],
             [
              0.1111111111111111,
              "#46039f"
             ],
             [
              0.2222222222222222,
              "#7201a8"
             ],
             [
              0.3333333333333333,
              "#9c179e"
             ],
             [
              0.4444444444444444,
              "#bd3786"
             ],
             [
              0.5555555555555556,
              "#d8576b"
             ],
             [
              0.6666666666666666,
              "#ed7953"
             ],
             [
              0.7777777777777778,
              "#fb9f3a"
             ],
             [
              0.8888888888888888,
              "#fdca26"
             ],
             [
              1,
              "#f0f921"
             ]
            ],
            "type": "heatmapgl"
           }
          ],
          "histogram": [
           {
            "marker": {
             "colorbar": {
              "outlinewidth": 0,
              "ticks": ""
             }
            },
            "type": "histogram"
           }
          ],
          "histogram2d": [
           {
            "colorbar": {
             "outlinewidth": 0,
             "ticks": ""
            },
            "colorscale": [
             [
              0,
              "#0d0887"
             ],
             [
              0.1111111111111111,
              "#46039f"
             ],
             [
              0.2222222222222222,
              "#7201a8"
             ],
             [
              0.3333333333333333,
              "#9c179e"
             ],
             [
              0.4444444444444444,
              "#bd3786"
             ],
             [
              0.5555555555555556,
              "#d8576b"
             ],
             [
              0.6666666666666666,
              "#ed7953"
             ],
             [
              0.7777777777777778,
              "#fb9f3a"
             ],
             [
              0.8888888888888888,
              "#fdca26"
             ],
             [
              1,
              "#f0f921"
             ]
            ],
            "type": "histogram2d"
           }
          ],
          "histogram2dcontour": [
           {
            "colorbar": {
             "outlinewidth": 0,
             "ticks": ""
            },
            "colorscale": [
             [
              0,
              "#0d0887"
             ],
             [
              0.1111111111111111,
              "#46039f"
             ],
             [
              0.2222222222222222,
              "#7201a8"
             ],
             [
              0.3333333333333333,
              "#9c179e"
             ],
             [
              0.4444444444444444,
              "#bd3786"
             ],
             [
              0.5555555555555556,
              "#d8576b"
             ],
             [
              0.6666666666666666,
              "#ed7953"
             ],
             [
              0.7777777777777778,
              "#fb9f3a"
             ],
             [
              0.8888888888888888,
              "#fdca26"
             ],
             [
              1,
              "#f0f921"
             ]
            ],
            "type": "histogram2dcontour"
           }
          ],
          "mesh3d": [
           {
            "colorbar": {
             "outlinewidth": 0,
             "ticks": ""
            },
            "type": "mesh3d"
           }
          ],
          "parcoords": [
           {
            "line": {
             "colorbar": {
              "outlinewidth": 0,
              "ticks": ""
             }
            },
            "type": "parcoords"
           }
          ],
          "pie": [
           {
            "automargin": true,
            "type": "pie"
           }
          ],
          "scatter": [
           {
            "marker": {
             "colorbar": {
              "outlinewidth": 0,
              "ticks": ""
             }
            },
            "type": "scatter"
           }
          ],
          "scatter3d": [
           {
            "line": {
             "colorbar": {
              "outlinewidth": 0,
              "ticks": ""
             }
            },
            "marker": {
             "colorbar": {
              "outlinewidth": 0,
              "ticks": ""
             }
            },
            "type": "scatter3d"
           }
          ],
          "scattercarpet": [
           {
            "marker": {
             "colorbar": {
              "outlinewidth": 0,
              "ticks": ""
             }
            },
            "type": "scattercarpet"
           }
          ],
          "scattergeo": [
           {
            "marker": {
             "colorbar": {
              "outlinewidth": 0,
              "ticks": ""
             }
            },
            "type": "scattergeo"
           }
          ],
          "scattergl": [
           {
            "marker": {
             "colorbar": {
              "outlinewidth": 0,
              "ticks": ""
             }
            },
            "type": "scattergl"
           }
          ],
          "scattermapbox": [
           {
            "marker": {
             "colorbar": {
              "outlinewidth": 0,
              "ticks": ""
             }
            },
            "type": "scattermapbox"
           }
          ],
          "scatterpolar": [
           {
            "marker": {
             "colorbar": {
              "outlinewidth": 0,
              "ticks": ""
             }
            },
            "type": "scatterpolar"
           }
          ],
          "scatterpolargl": [
           {
            "marker": {
             "colorbar": {
              "outlinewidth": 0,
              "ticks": ""
             }
            },
            "type": "scatterpolargl"
           }
          ],
          "scatterternary": [
           {
            "marker": {
             "colorbar": {
              "outlinewidth": 0,
              "ticks": ""
             }
            },
            "type": "scatterternary"
           }
          ],
          "surface": [
           {
            "colorbar": {
             "outlinewidth": 0,
             "ticks": ""
            },
            "colorscale": [
             [
              0,
              "#0d0887"
             ],
             [
              0.1111111111111111,
              "#46039f"
             ],
             [
              0.2222222222222222,
              "#7201a8"
             ],
             [
              0.3333333333333333,
              "#9c179e"
             ],
             [
              0.4444444444444444,
              "#bd3786"
             ],
             [
              0.5555555555555556,
              "#d8576b"
             ],
             [
              0.6666666666666666,
              "#ed7953"
             ],
             [
              0.7777777777777778,
              "#fb9f3a"
             ],
             [
              0.8888888888888888,
              "#fdca26"
             ],
             [
              1,
              "#f0f921"
             ]
            ],
            "type": "surface"
           }
          ],
          "table": [
           {
            "cells": {
             "fill": {
              "color": "#EBF0F8"
             },
             "line": {
              "color": "white"
             }
            },
            "header": {
             "fill": {
              "color": "#C8D4E3"
             },
             "line": {
              "color": "white"
             }
            },
            "type": "table"
           }
          ]
         },
         "layout": {
          "annotationdefaults": {
           "arrowcolor": "#2a3f5f",
           "arrowhead": 0,
           "arrowwidth": 1
          },
          "autotypenumbers": "strict",
          "coloraxis": {
           "colorbar": {
            "outlinewidth": 0,
            "ticks": ""
           }
          },
          "colorscale": {
           "diverging": [
            [
             0,
             "#8e0152"
            ],
            [
             0.1,
             "#c51b7d"
            ],
            [
             0.2,
             "#de77ae"
            ],
            [
             0.3,
             "#f1b6da"
            ],
            [
             0.4,
             "#fde0ef"
            ],
            [
             0.5,
             "#f7f7f7"
            ],
            [
             0.6,
             "#e6f5d0"
            ],
            [
             0.7,
             "#b8e186"
            ],
            [
             0.8,
             "#7fbc41"
            ],
            [
             0.9,
             "#4d9221"
            ],
            [
             1,
             "#276419"
            ]
           ],
           "sequential": [
            [
             0,
             "#0d0887"
            ],
            [
             0.1111111111111111,
             "#46039f"
            ],
            [
             0.2222222222222222,
             "#7201a8"
            ],
            [
             0.3333333333333333,
             "#9c179e"
            ],
            [
             0.4444444444444444,
             "#bd3786"
            ],
            [
             0.5555555555555556,
             "#d8576b"
            ],
            [
             0.6666666666666666,
             "#ed7953"
            ],
            [
             0.7777777777777778,
             "#fb9f3a"
            ],
            [
             0.8888888888888888,
             "#fdca26"
            ],
            [
             1,
             "#f0f921"
            ]
           ],
           "sequentialminus": [
            [
             0,
             "#0d0887"
            ],
            [
             0.1111111111111111,
             "#46039f"
            ],
            [
             0.2222222222222222,
             "#7201a8"
            ],
            [
             0.3333333333333333,
             "#9c179e"
            ],
            [
             0.4444444444444444,
             "#bd3786"
            ],
            [
             0.5555555555555556,
             "#d8576b"
            ],
            [
             0.6666666666666666,
             "#ed7953"
            ],
            [
             0.7777777777777778,
             "#fb9f3a"
            ],
            [
             0.8888888888888888,
             "#fdca26"
            ],
            [
             1,
             "#f0f921"
            ]
           ]
          },
          "colorway": [
           "#636efa",
           "#EF553B",
           "#00cc96",
           "#ab63fa",
           "#FFA15A",
           "#19d3f3",
           "#FF6692",
           "#B6E880",
           "#FF97FF",
           "#FECB52"
          ],
          "font": {
           "color": "#2a3f5f"
          },
          "geo": {
           "bgcolor": "white",
           "lakecolor": "white",
           "landcolor": "#E5ECF6",
           "showlakes": true,
           "showland": true,
           "subunitcolor": "white"
          },
          "hoverlabel": {
           "align": "left"
          },
          "hovermode": "closest",
          "mapbox": {
           "style": "light"
          },
          "paper_bgcolor": "white",
          "plot_bgcolor": "#E5ECF6",
          "polar": {
           "angularaxis": {
            "gridcolor": "white",
            "linecolor": "white",
            "ticks": ""
           },
           "bgcolor": "#E5ECF6",
           "radialaxis": {
            "gridcolor": "white",
            "linecolor": "white",
            "ticks": ""
           }
          },
          "scene": {
           "xaxis": {
            "backgroundcolor": "#E5ECF6",
            "gridcolor": "white",
            "gridwidth": 2,
            "linecolor": "white",
            "showbackground": true,
            "ticks": "",
            "zerolinecolor": "white"
           },
           "yaxis": {
            "backgroundcolor": "#E5ECF6",
            "gridcolor": "white",
            "gridwidth": 2,
            "linecolor": "white",
            "showbackground": true,
            "ticks": "",
            "zerolinecolor": "white"
           },
           "zaxis": {
            "backgroundcolor": "#E5ECF6",
            "gridcolor": "white",
            "gridwidth": 2,
            "linecolor": "white",
            "showbackground": true,
            "ticks": "",
            "zerolinecolor": "white"
           }
          },
          "shapedefaults": {
           "line": {
            "color": "#2a3f5f"
           }
          },
          "ternary": {
           "aaxis": {
            "gridcolor": "white",
            "linecolor": "white",
            "ticks": ""
           },
           "baxis": {
            "gridcolor": "white",
            "linecolor": "white",
            "ticks": ""
           },
           "bgcolor": "#E5ECF6",
           "caxis": {
            "gridcolor": "white",
            "linecolor": "white",
            "ticks": ""
           }
          },
          "title": {
           "x": 0.05
          },
          "xaxis": {
           "automargin": true,
           "gridcolor": "white",
           "linecolor": "white",
           "ticks": "",
           "title": {
            "standoff": 15
           },
           "zerolinecolor": "white",
           "zerolinewidth": 2
          },
          "yaxis": {
           "automargin": true,
           "gridcolor": "white",
           "linecolor": "white",
           "ticks": "",
           "title": {
            "standoff": 15
           },
           "zerolinecolor": "white",
           "zerolinewidth": 2
          }
         }
        },
        "title": {
         "text": "Top 50 (cleaned) Word frequencies in the training dataset after removing stopwords"
        }
       }
      },
      "text/html": [
       "<div>                            <div id=\"73fa233b-5874-4ed3-ab1b-f7d16696ee1f\" class=\"plotly-graph-div\" style=\"height:525px; width:100%;\"></div>            <script type=\"text/javascript\">                require([\"plotly\"], function(Plotly) {                    window.PLOTLYENV=window.PLOTLYENV || {};                                    if (document.getElementById(\"73fa233b-5874-4ed3-ab1b-f7d16696ee1f\")) {                    Plotly.newPlot(                        \"73fa233b-5874-4ed3-ab1b-f7d16696ee1f\",                        [{\"marker\": {\"color\": [30381, 23013, 19994, 18007, 17044, 16901, 16337, 15727, 15381, 15332, 13172, 13041, 12913, 12763, 12713, 12594, 12372, 12225, 11698, 11116, 11089, 10418, 10313, 10208, 10115, 9923, 9648, 9558, 9545, 9503, 9493, 9386, 9364, 9339, 9323, 9283, 9049, 9024, 8972, 8930, 8848, 8772, 8765, 8381, 8369, 8237, 8230, 8107, 8081, 7992, 7974, 7948, 7922, 7908, 7854, 7834, 7810, 7697, 7679, 7648, 7451, 7447, 7392, 7357, 7332, 7295, 7283, 7254, 7234, 7202, 7200, 7173, 7166, 7109, 7065, 7057, 6974, 6969, 6950, 6937, 6924, 6895, 6894, 6877, 6857, 6831, 6804, 6769, 6751, 6729, 6656, 6626, 6581, 6581, 6575, 6502, 6472, 6414], \"colorscale\": [[0.0, \"rgb(0,0,131)\"], [0.2, \"rgb(0,60,170)\"], [0.4, \"rgb(5,255,255)\"], [0.6, \"rgb(255,255,0)\"], [0.8, \"rgb(250,0,0)\"], [1.0, \"rgb(128,0,0)\"]]}, \"type\": \"bar\", \"x\": [\"man\", \"says\", \"us\", \"court\", \"govt\", \"council\", \"australia\", \"nsw\", \"interview\", \"fire\", \"australian\", \"wa\", \"plan\", \"water\", \"sydney\", \"death\", \"qld\", \"crash\", \"health\", \"charged\", \"back\", \"murder\", \"report\", \"sa\", \"day\", \"call\", \"government\", \"hospital\", \"coast\", \"world\", \"car\", \"may\", \"calls\", \"woman\", \"south\", \"two\", \"election\", \"home\", \"found\", \"win\", \"first\", \"accused\", \"killed\", \"coronavirus\", \"north\", \"china\", \"missing\", \"rural\"], \"y\": [30381, 23013, 19994, 18007, 17044, 16901, 16337, 15727, 15381, 15332, 13172, 13041, 12913, 12763, 12713, 12594, 12372, 12225, 11698, 11116, 11089, 10418, 10313, 10208, 10115, 9923, 9648, 9558, 9545, 9503, 9493, 9386, 9364, 9339, 9323, 9283, 9049, 9024, 8972, 8930, 8848, 8772, 8765, 8381, 8369, 8237, 8230, 8107]}],                        {\"template\": {\"data\": {\"bar\": [{\"error_x\": {\"color\": \"#2a3f5f\"}, \"error_y\": {\"color\": \"#2a3f5f\"}, \"marker\": {\"line\": {\"color\": \"#E5ECF6\", \"width\": 0.5}}, \"type\": \"bar\"}], \"barpolar\": [{\"marker\": {\"line\": {\"color\": \"#E5ECF6\", \"width\": 0.5}}, \"type\": \"barpolar\"}], \"carpet\": [{\"aaxis\": {\"endlinecolor\": \"#2a3f5f\", \"gridcolor\": \"white\", \"linecolor\": \"white\", \"minorgridcolor\": \"white\", \"startlinecolor\": \"#2a3f5f\"}, \"baxis\": {\"endlinecolor\": \"#2a3f5f\", \"gridcolor\": \"white\", \"linecolor\": \"white\", \"minorgridcolor\": \"white\", \"startlinecolor\": \"#2a3f5f\"}, \"type\": \"carpet\"}], \"choropleth\": [{\"colorbar\": {\"outlinewidth\": 0, \"ticks\": \"\"}, \"type\": \"choropleth\"}], \"contour\": [{\"colorbar\": {\"outlinewidth\": 0, \"ticks\": \"\"}, \"colorscale\": [[0.0, \"#0d0887\"], [0.1111111111111111, \"#46039f\"], [0.2222222222222222, \"#7201a8\"], [0.3333333333333333, \"#9c179e\"], [0.4444444444444444, \"#bd3786\"], [0.5555555555555556, \"#d8576b\"], [0.6666666666666666, \"#ed7953\"], [0.7777777777777778, \"#fb9f3a\"], [0.8888888888888888, \"#fdca26\"], [1.0, \"#f0f921\"]], \"type\": \"contour\"}], \"contourcarpet\": [{\"colorbar\": {\"outlinewidth\": 0, \"ticks\": \"\"}, \"type\": \"contourcarpet\"}], \"heatmap\": [{\"colorbar\": {\"outlinewidth\": 0, \"ticks\": \"\"}, \"colorscale\": [[0.0, \"#0d0887\"], [0.1111111111111111, \"#46039f\"], [0.2222222222222222, \"#7201a8\"], [0.3333333333333333, \"#9c179e\"], [0.4444444444444444, \"#bd3786\"], [0.5555555555555556, \"#d8576b\"], [0.6666666666666666, \"#ed7953\"], [0.7777777777777778, \"#fb9f3a\"], [0.8888888888888888, \"#fdca26\"], [1.0, \"#f0f921\"]], \"type\": \"heatmap\"}], \"heatmapgl\": [{\"colorbar\": {\"outlinewidth\": 0, \"ticks\": \"\"}, \"colorscale\": [[0.0, \"#0d0887\"], [0.1111111111111111, \"#46039f\"], [0.2222222222222222, \"#7201a8\"], [0.3333333333333333, \"#9c179e\"], [0.4444444444444444, \"#bd3786\"], [0.5555555555555556, \"#d8576b\"], [0.6666666666666666, \"#ed7953\"], [0.7777777777777778, \"#fb9f3a\"], [0.8888888888888888, \"#fdca26\"], [1.0, \"#f0f921\"]], \"type\": \"heatmapgl\"}], \"histogram\": [{\"marker\": {\"colorbar\": {\"outlinewidth\": 0, \"ticks\": \"\"}}, \"type\": \"histogram\"}], \"histogram2d\": [{\"colorbar\": {\"outlinewidth\": 0, \"ticks\": \"\"}, \"colorscale\": [[0.0, \"#0d0887\"], [0.1111111111111111, \"#46039f\"], [0.2222222222222222, \"#7201a8\"], [0.3333333333333333, \"#9c179e\"], [0.4444444444444444, \"#bd3786\"], [0.5555555555555556, \"#d8576b\"], [0.6666666666666666, \"#ed7953\"], [0.7777777777777778, \"#fb9f3a\"], [0.8888888888888888, \"#fdca26\"], [1.0, \"#f0f921\"]], \"type\": \"histogram2d\"}], \"histogram2dcontour\": [{\"colorbar\": {\"outlinewidth\": 0, \"ticks\": \"\"}, \"colorscale\": [[0.0, \"#0d0887\"], [0.1111111111111111, \"#46039f\"], [0.2222222222222222, \"#7201a8\"], [0.3333333333333333, \"#9c179e\"], [0.4444444444444444, \"#bd3786\"], [0.5555555555555556, \"#d8576b\"], [0.6666666666666666, \"#ed7953\"], [0.7777777777777778, \"#fb9f3a\"], [0.8888888888888888, \"#fdca26\"], [1.0, \"#f0f921\"]], \"type\": \"histogram2dcontour\"}], \"mesh3d\": [{\"colorbar\": {\"outlinewidth\": 0, \"ticks\": \"\"}, \"type\": \"mesh3d\"}], \"parcoords\": [{\"line\": {\"colorbar\": {\"outlinewidth\": 0, \"ticks\": \"\"}}, \"type\": \"parcoords\"}], \"pie\": [{\"automargin\": true, \"type\": \"pie\"}], \"scatter\": [{\"marker\": {\"colorbar\": {\"outlinewidth\": 0, \"ticks\": \"\"}}, \"type\": \"scatter\"}], \"scatter3d\": [{\"line\": {\"colorbar\": {\"outlinewidth\": 0, \"ticks\": \"\"}}, \"marker\": {\"colorbar\": {\"outlinewidth\": 0, \"ticks\": \"\"}}, \"type\": \"scatter3d\"}], \"scattercarpet\": [{\"marker\": {\"colorbar\": {\"outlinewidth\": 0, \"ticks\": \"\"}}, \"type\": \"scattercarpet\"}], \"scattergeo\": [{\"marker\": {\"colorbar\": {\"outlinewidth\": 0, \"ticks\": \"\"}}, \"type\": \"scattergeo\"}], \"scattergl\": [{\"marker\": {\"colorbar\": {\"outlinewidth\": 0, \"ticks\": \"\"}}, \"type\": \"scattergl\"}], \"scattermapbox\": [{\"marker\": {\"colorbar\": {\"outlinewidth\": 0, \"ticks\": \"\"}}, \"type\": \"scattermapbox\"}], \"scatterpolar\": [{\"marker\": {\"colorbar\": {\"outlinewidth\": 0, \"ticks\": \"\"}}, \"type\": \"scatterpolar\"}], \"scatterpolargl\": [{\"marker\": {\"colorbar\": {\"outlinewidth\": 0, \"ticks\": \"\"}}, \"type\": \"scatterpolargl\"}], \"scatterternary\": [{\"marker\": {\"colorbar\": {\"outlinewidth\": 0, \"ticks\": \"\"}}, \"type\": \"scatterternary\"}], \"surface\": [{\"colorbar\": {\"outlinewidth\": 0, \"ticks\": \"\"}, \"colorscale\": [[0.0, \"#0d0887\"], [0.1111111111111111, \"#46039f\"], [0.2222222222222222, \"#7201a8\"], [0.3333333333333333, \"#9c179e\"], [0.4444444444444444, \"#bd3786\"], [0.5555555555555556, \"#d8576b\"], [0.6666666666666666, \"#ed7953\"], [0.7777777777777778, \"#fb9f3a\"], [0.8888888888888888, \"#fdca26\"], [1.0, \"#f0f921\"]], \"type\": \"surface\"}], \"table\": [{\"cells\": {\"fill\": {\"color\": \"#EBF0F8\"}, \"line\": {\"color\": \"white\"}}, \"header\": {\"fill\": {\"color\": \"#C8D4E3\"}, \"line\": {\"color\": \"white\"}}, \"type\": \"table\"}]}, \"layout\": {\"annotationdefaults\": {\"arrowcolor\": \"#2a3f5f\", \"arrowhead\": 0, \"arrowwidth\": 1}, \"autotypenumbers\": \"strict\", \"coloraxis\": {\"colorbar\": {\"outlinewidth\": 0, \"ticks\": \"\"}}, \"colorscale\": {\"diverging\": [[0, \"#8e0152\"], [0.1, \"#c51b7d\"], [0.2, \"#de77ae\"], [0.3, \"#f1b6da\"], [0.4, \"#fde0ef\"], [0.5, \"#f7f7f7\"], [0.6, \"#e6f5d0\"], [0.7, \"#b8e186\"], [0.8, \"#7fbc41\"], [0.9, \"#4d9221\"], [1, \"#276419\"]], \"sequential\": [[0.0, \"#0d0887\"], [0.1111111111111111, \"#46039f\"], [0.2222222222222222, \"#7201a8\"], [0.3333333333333333, \"#9c179e\"], [0.4444444444444444, \"#bd3786\"], [0.5555555555555556, \"#d8576b\"], [0.6666666666666666, \"#ed7953\"], [0.7777777777777778, \"#fb9f3a\"], [0.8888888888888888, \"#fdca26\"], [1.0, \"#f0f921\"]], \"sequentialminus\": [[0.0, \"#0d0887\"], [0.1111111111111111, \"#46039f\"], [0.2222222222222222, \"#7201a8\"], [0.3333333333333333, \"#9c179e\"], [0.4444444444444444, \"#bd3786\"], [0.5555555555555556, \"#d8576b\"], [0.6666666666666666, \"#ed7953\"], [0.7777777777777778, \"#fb9f3a\"], [0.8888888888888888, \"#fdca26\"], [1.0, \"#f0f921\"]]}, \"colorway\": [\"#636efa\", \"#EF553B\", \"#00cc96\", \"#ab63fa\", \"#FFA15A\", \"#19d3f3\", \"#FF6692\", \"#B6E880\", \"#FF97FF\", \"#FECB52\"], \"font\": {\"color\": \"#2a3f5f\"}, \"geo\": {\"bgcolor\": \"white\", \"lakecolor\": \"white\", \"landcolor\": \"#E5ECF6\", \"showlakes\": true, \"showland\": true, \"subunitcolor\": \"white\"}, \"hoverlabel\": {\"align\": \"left\"}, \"hovermode\": \"closest\", \"mapbox\": {\"style\": \"light\"}, \"paper_bgcolor\": \"white\", \"plot_bgcolor\": \"#E5ECF6\", \"polar\": {\"angularaxis\": {\"gridcolor\": \"white\", \"linecolor\": \"white\", \"ticks\": \"\"}, \"bgcolor\": \"#E5ECF6\", \"radialaxis\": {\"gridcolor\": \"white\", \"linecolor\": \"white\", \"ticks\": \"\"}}, \"scene\": {\"xaxis\": {\"backgroundcolor\": \"#E5ECF6\", \"gridcolor\": \"white\", \"gridwidth\": 2, \"linecolor\": \"white\", \"showbackground\": true, \"ticks\": \"\", \"zerolinecolor\": \"white\"}, \"yaxis\": {\"backgroundcolor\": \"#E5ECF6\", \"gridcolor\": \"white\", \"gridwidth\": 2, \"linecolor\": \"white\", \"showbackground\": true, \"ticks\": \"\", \"zerolinecolor\": \"white\"}, \"zaxis\": {\"backgroundcolor\": \"#E5ECF6\", \"gridcolor\": \"white\", \"gridwidth\": 2, \"linecolor\": \"white\", \"showbackground\": true, \"ticks\": \"\", \"zerolinecolor\": \"white\"}}, \"shapedefaults\": {\"line\": {\"color\": \"#2a3f5f\"}}, \"ternary\": {\"aaxis\": {\"gridcolor\": \"white\", \"linecolor\": \"white\", \"ticks\": \"\"}, \"baxis\": {\"gridcolor\": \"white\", \"linecolor\": \"white\", \"ticks\": \"\"}, \"bgcolor\": \"#E5ECF6\", \"caxis\": {\"gridcolor\": \"white\", \"linecolor\": \"white\", \"ticks\": \"\"}}, \"title\": {\"x\": 0.05}, \"xaxis\": {\"automargin\": true, \"gridcolor\": \"white\", \"linecolor\": \"white\", \"ticks\": \"\", \"title\": {\"standoff\": 15}, \"zerolinecolor\": \"white\", \"zerolinewidth\": 2}, \"yaxis\": {\"automargin\": true, \"gridcolor\": \"white\", \"linecolor\": \"white\", \"ticks\": \"\", \"title\": {\"standoff\": 15}, \"zerolinecolor\": \"white\", \"zerolinewidth\": 2}}}, \"title\": {\"text\": \"Top 50 (cleaned) Word frequencies in the training dataset after removing stopwords\"}},                        {\"responsive\": true}                    ).then(function(){\n",
       "                            \n",
       "var gd = document.getElementById('73fa233b-5874-4ed3-ab1b-f7d16696ee1f');\n",
       "var x = new MutationObserver(function (mutations, observer) {{\n",
       "        var display = window.getComputedStyle(gd).display;\n",
       "        if (!display || display === 'none') {{\n",
       "            console.log([gd, 'removed!']);\n",
       "            Plotly.purge(gd);\n",
       "            observer.disconnect();\n",
       "        }}\n",
       "}});\n",
       "\n",
       "// Listen for the removal of the full notebook cells\n",
       "var notebookContainer = gd.closest('#notebook-container');\n",
       "if (notebookContainer) {{\n",
       "    x.observe(notebookContainer, {childList: true});\n",
       "}}\n",
       "\n",
       "// Listen for the clearing of the current output cell\n",
       "var outputEl = gd.closest('.output');\n",
       "if (outputEl) {{\n",
       "    x.observe(outputEl, {childList: true});\n",
       "}}\n",
       "\n",
       "                        })                };                });            </script>        </div>"
      ]
     },
     "metadata": {},
     "output_type": "display_data"
    }
   ],
   "source": [
    "all_words = df2['headline_clean'].str.split(expand=True).unstack().value_counts()\n",
    "data = [go.Bar(\n",
    "            x = all_words.index.values[2:50],\n",
    "            y = all_words.values[2:50],\n",
    "            marker= dict(colorscale='Jet',\n",
    "                         color = all_words.values[2:100]\n",
    "                        )\n",
    "    )]\n",
    "\n",
    "layout = go.Layout(\n",
    "    title='Top 50 (cleaned) Word frequencies in the training dataset after removing stopwords'\n",
    ")\n",
    "\n",
    "fig = go.Figure(data=data, layout=layout)\n",
    "\n",
    "py.iplot(fig, filename='basic-bar')"
   ]
  },
  {
   "cell_type": "markdown",
   "id": "43ea4939",
   "metadata": {},
   "source": [
    "# EDA--------------------------------------------------------------------------------------"
   ]
  },
  {
   "cell_type": "code",
   "execution_count": 26,
   "id": "513d9ab0",
   "metadata": {},
   "outputs": [
    {
     "data": {
      "image/png": "[encoded data removed]",
      "text/plain": [
       "<Figure size 1296x1152 with 3 Axes>"
      ]
     },
     "metadata": {
      "needs_background": "light"
     },
     "output_type": "display_data"
    }
   ],
   "source": [
    "monthly_counts = reindexed_data.resample('M').count()\n",
    "yearly_counts = reindexed_data.resample('A').count()\n",
    "daily_counts = reindexed_data.resample('D').count()\n",
    "\n",
    "fig, ax = plt.subplots(3, figsize=(18,16))\n",
    "ax[0].plot(daily_counts);\n",
    "ax[0].set_title('Daily Counts');\n",
    "ax[1].plot(monthly_counts);\n",
    "ax[1].set_title('Monthly Counts');\n",
    "ax[2].plot(yearly_counts);\n",
    "ax[2].set_title('Yearly Counts');\n",
    "plt.show()"
   ]
  },
  {
   "cell_type": "markdown",
   "id": "b400761e",
   "metadata": {},
   "source": [
    "# Modelling--------------------------------------------------------------------------------"
   ]
  },
  {
   "cell_type": "markdown",
   "id": "7174153e",
   "metadata": {},
   "source": [
    "## MODEL #1: Latent Semantic Analysis(LSA)"
   ]
  },
  {
   "cell_type": "markdown",
   "id": "904d0c4f",
   "metadata": {},
   "source": [
    "### Model:  Latent Semantic Analysis (LSA)\n",
    "\n",
    "**Model Overview** \n",
    "Let’s say we have m number of text documents with n number of total unique terms (words). We wish to extract k topics from all the text data in the documents. The number of topics, k, has to be specified by the user.\n",
    "\n",
    "- Generate a document-term matrix of shape m x n having TF-IDF scores.\n",
    "- Then, we will reduce the dimensions of the above matrix to k (no. of desired topics) dimensions, using singular-value decomposition (SVD).\n",
    "- SVD decomposes a matrix into three other matrices. Suppose we want to decompose a matrix A using SVD. It will be decomposed into matrix U, matrix S, and VT (transpose of matrix V).\n"
   ]
  },
  {
   "attachments": {
    "lsa.png": {
     "image/png": "[encoded data removed]"
    }
   },
   "cell_type": "markdown",
   "id": "f297a0a1",
   "metadata": {},
   "source": [
    "![lsa.png](attachment:lsa.png)"
   ]
  },
  {
   "cell_type": "markdown",
   "id": "a12320ed",
   "metadata": {},
   "source": [
    "#### Model Parameters. \n",
    "\n",
    "- n_components: Desired dimensionality of output data. Must be strictly less than the number of features. For LSA, a value of 100 is recommended.\n",
    "\n",
    "- algorithm: SVD solver to use. Either “arpack” for the ARPACK wrapper in SciPy (scipy.sparse.linalg.svds), or “randomized” for the randomized algorithm due to Halko (2009).\n",
    "\n",
    "- n_iter: Number of iterations for randomized SVD solver. Not used by ARPACK. The default is larger than the default in randomized_svd to handle sparse matrices that may have large slowly decaying spectrum.\n",
    "\n",
    "- random_state: RandomState instance or None, default=None, Used during randomized svd. Pass an int for reproducible results across multiple function calls.\n",
    "\n",
    "reference: https://scikit-learn.org/stable/modules/generated/sklearn.decomposition.TruncatedSVD.html"
   ]
  },
  {
   "cell_type": "code",
   "execution_count": 30,
   "id": "bf3c6c7c",
   "metadata": {},
   "outputs": [],
   "source": [
    "from sklearn.feature_extraction.text import TfidfVectorizer,CountVectorizer\n",
    "from sklearn.decomposition import TruncatedSVD\n",
    "import nltk\n",
    "from nltk.corpus import stopwords \n",
    "stop_words=set(nltk.corpus.stopwords.words('english'))"
   ]
  },
  {
   "cell_type": "code",
   "execution_count": 31,
   "id": "4ff8b0c5",
   "metadata": {},
   "outputs": [],
   "source": [
    "vect =TfidfVectorizer(stop_words=stop_words,max_features=5000)\n",
    "vect_text=vect.fit_transform(df2['headline_clean'])"
   ]
  },
  {
   "cell_type": "code",
   "execution_count": 42,
   "id": "7fbfeaa5",
   "metadata": {},
   "outputs": [
    {
     "name": "stdout",
     "output_type": "stream",
     "text": [
      "police neck\n",
      "4.440676964340036\n",
      "9.701358635440101\n"
     ]
    }
   ],
   "source": [
    "idf=vect.idf_\n",
    "dd=dict(zip(vect.get_feature_names(), idf))\n",
    "l=sorted(dd, key=(dd).get)\n",
    "print(l[0],l[-1])\n",
    "\n",
    "print(dd['police'])\n",
    "print(dd['neck'])  \n",
    "\n",
    "# police is most common and forecast is least common among the news headlines."
   ]
  },
  {
   "cell_type": "code",
   "execution_count": 33,
   "id": "ce88daf5",
   "metadata": {},
   "outputs": [
    {
     "data": {
      "text/plain": [
       "CountVectorizer(max_df=0.5, ngram_range=(1, 2), stop_words='english')"
      ]
     },
     "execution_count": 33,
     "metadata": {},
     "output_type": "execute_result"
    }
   ],
   "source": [
    "X = vect_text.toarray()\n",
    "cvec = CountVectorizer(stop_words='english', min_df=1, max_df=.5, ngram_range=(1,2))\n",
    "cvec"
   ]
  },
  {
   "cell_type": "code",
   "execution_count": 35,
   "id": "1b9d982b",
   "metadata": {},
   "outputs": [
    {
     "data": {
      "text/plain": [
       "[('aba', 36430),\n",
       " ('decides', 652094),\n",
       " ('community', 514314),\n",
       " ('broadcasting', 332066),\n",
       " ('licence', 1359378),\n",
       " ('aba decides', 36440),\n",
       " ('decides community', 652121),\n",
       " ('community broadcasting', 514462),\n",
       " ('broadcasting licence', 332096),\n",
       " ('act', 54570),\n",
       " ('witnesses', 2573625),\n",
       " ('aware', 196060),\n",
       " ('defamation', 656414),\n",
       " ('act witnesses', 56253),\n",
       " ('witnesses aware', 2573652),\n",
       " ('aware defamation', 196107),\n",
       " ('calls', 370170),\n",
       " ('infrastructure', 1193749),\n",
       " ('protection', 1810265),\n",
       " ('summit', 2257655)]"
      ]
     },
     "execution_count": 35,
     "metadata": {},
     "output_type": "execute_result"
    }
   ],
   "source": [
    "from itertools import islice\n",
    "cvec.fit(df2['headline_clean'])\n",
    "list(islice(cvec.vocabulary_.items(), 20))"
   ]
  },
  {
   "cell_type": "code",
   "execution_count": 37,
   "id": "193b6301",
   "metadata": {},
   "outputs": [
    {
     "name": "stdout",
     "output_type": "stream",
     "text": [
      "sparse matrix shape: (1226258, 2616466)\n",
      "nonzero count: 11500853\n",
      "sparsity: 0.00%\n"
     ]
    }
   ],
   "source": [
    "cvec_counts = cvec.transform(df2['headline_clean'])\n",
    "print ('sparse matrix shape:', cvec_counts.shape)\n",
    "print ('nonzero count:', cvec_counts.nnz)\n",
    "print ('sparsity: %.2f%%' % (100.0 * cvec_counts.nnz / (cvec_counts.shape[0] * cvec_counts.shape[1])))"
   ]
  },
  {
   "cell_type": "code",
   "execution_count": 38,
   "id": "049cadeb",
   "metadata": {},
   "outputs": [
    {
     "data": {
      "text/html": [
       "<div>\n",
       "<style scoped>\n",
       "    .dataframe tbody tr th:only-of-type {\n",
       "        vertical-align: middle;\n",
       "    }\n",
       "\n",
       "    .dataframe tbody tr th {\n",
       "        vertical-align: top;\n",
       "    }\n",
       "\n",
       "    .dataframe thead th {\n",
       "        text-align: right;\n",
       "    }\n",
       "</style>\n",
       "<table border=\"1\" class=\"dataframe\">\n",
       "  <thead>\n",
       "    <tr style=\"text-align: right;\">\n",
       "      <th></th>\n",
       "      <th>term</th>\n",
       "      <th>occurrences</th>\n",
       "    </tr>\n",
       "  </thead>\n",
       "  <tbody>\n",
       "    <tr>\n",
       "      <th>1740861</th>\n",
       "      <td>police</td>\n",
       "      <td>39385</td>\n",
       "    </tr>\n",
       "    <tr>\n",
       "      <th>1566598</th>\n",
       "      <td>new</td>\n",
       "      <td>32832</td>\n",
       "    </tr>\n",
       "    <tr>\n",
       "      <th>1423773</th>\n",
       "      <td>man</td>\n",
       "      <td>30514</td>\n",
       "    </tr>\n",
       "    <tr>\n",
       "      <th>2036558</th>\n",
       "      <td>says</td>\n",
       "      <td>23014</td>\n",
       "    </tr>\n",
       "    <tr>\n",
       "      <th>576176</th>\n",
       "      <td>court</td>\n",
       "      <td>18014</td>\n",
       "    </tr>\n",
       "    <tr>\n",
       "      <th>1018301</th>\n",
       "      <td>govt</td>\n",
       "      <td>17057</td>\n",
       "    </tr>\n",
       "    <tr>\n",
       "      <th>568006</th>\n",
       "      <td>council</td>\n",
       "      <td>16934</td>\n",
       "    </tr>\n",
       "    <tr>\n",
       "      <th>180124</th>\n",
       "      <td>australia</td>\n",
       "      <td>16652</td>\n",
       "    </tr>\n",
       "    <tr>\n",
       "      <th>1589654</th>\n",
       "      <td>nsw</td>\n",
       "      <td>15749</td>\n",
       "    </tr>\n",
       "    <tr>\n",
       "      <th>1210621</th>\n",
       "      <td>interview</td>\n",
       "      <td>15545</td>\n",
       "    </tr>\n",
       "    <tr>\n",
       "      <th>183800</th>\n",
       "      <td>australian</td>\n",
       "      <td>13188</td>\n",
       "    </tr>\n",
       "    <tr>\n",
       "      <th>2499760</th>\n",
       "      <td>wa</td>\n",
       "      <td>13079</td>\n",
       "    </tr>\n",
       "    <tr>\n",
       "      <th>1715200</th>\n",
       "      <td>plan</td>\n",
       "      <td>12922</td>\n",
       "    </tr>\n",
       "    <tr>\n",
       "      <th>2283861</th>\n",
       "      <td>sydney</td>\n",
       "      <td>12888</td>\n",
       "    </tr>\n",
       "    <tr>\n",
       "      <th>2528651</th>\n",
       "      <td>water</td>\n",
       "      <td>12775</td>\n",
       "    </tr>\n",
       "    <tr>\n",
       "      <th>645183</th>\n",
       "      <td>death</td>\n",
       "      <td>12628</td>\n",
       "    </tr>\n",
       "    <tr>\n",
       "      <th>1831255</th>\n",
       "      <td>qld</td>\n",
       "      <td>12384</td>\n",
       "    </tr>\n",
       "    <tr>\n",
       "      <th>585426</th>\n",
       "      <td>crash</td>\n",
       "      <td>12248</td>\n",
       "    </tr>\n",
       "    <tr>\n",
       "      <th>1081067</th>\n",
       "      <td>health</td>\n",
       "      <td>11712</td>\n",
       "    </tr>\n",
       "    <tr>\n",
       "      <th>436436</th>\n",
       "      <td>charged</td>\n",
       "      <td>11118</td>\n",
       "    </tr>\n",
       "  </tbody>\n",
       "</table>\n",
       "</div>"
      ],
      "text/plain": [
       "               term  occurrences\n",
       "1740861      police        39385\n",
       "1566598         new        32832\n",
       "1423773         man        30514\n",
       "2036558        says        23014\n",
       "576176        court        18014\n",
       "1018301        govt        17057\n",
       "568006      council        16934\n",
       "180124    australia        16652\n",
       "1589654         nsw        15749\n",
       "1210621   interview        15545\n",
       "183800   australian        13188\n",
       "2499760          wa        13079\n",
       "1715200        plan        12922\n",
       "2283861      sydney        12888\n",
       "2528651       water        12775\n",
       "645183        death        12628\n",
       "1831255         qld        12384\n",
       "585426        crash        12248\n",
       "1081067      health        11712\n",
       "436436      charged        11118"
      ]
     },
     "execution_count": 38,
     "metadata": {},
     "output_type": "execute_result"
    }
   ],
   "source": [
    "occ = np.asarray(cvec_counts.sum(axis=0)).ravel().tolist()\n",
    "counts_df = pd.DataFrame({'term': cvec.get_feature_names(), 'occurrences': occ})\n",
    "counts_df.sort_values(by='occurrences', ascending=False).head(20)"
   ]
  },
  {
   "cell_type": "code",
   "execution_count": 39,
   "id": "24a76ff3",
   "metadata": {},
   "outputs": [
    {
     "data": {
      "text/plain": [
       "<1226258x2616466 sparse matrix of type '<class 'numpy.float64'>'\n",
       "\twith 11500853 stored elements in Compressed Sparse Row format>"
      ]
     },
     "execution_count": 39,
     "metadata": {},
     "output_type": "execute_result"
    }
   ],
   "source": [
    "from sklearn.feature_extraction.text import TfidfTransformer\n",
    "transformer = TfidfTransformer()\n",
    "transformed_weights = transformer.fit_transform(cvec_counts)\n",
    "transformed_weights"
   ]
  },
  {
   "cell_type": "code",
   "execution_count": 40,
   "id": "4234d1c8",
   "metadata": {},
   "outputs": [],
   "source": [
    "# Creating and training the LSA model.\n",
    "lsa_model = TruncatedSVD(n_components=20, algorithm='randomized', n_iter=40, random_state=5000)\n",
    "\n",
    "lsa_top=lsa_model.fit_transform(vect_text)"
   ]
  },
  {
   "cell_type": "code",
   "execution_count": 41,
   "id": "e1819753",
   "metadata": {},
   "outputs": [
    {
     "name": "stdout",
     "output_type": "stream",
     "text": [
      "Document 0 :\n",
      "Topic  0  :  0.046025899639956305\n",
      "Topic  1  :  1.0174955456134587\n",
      "Topic  2  :  1.3352014866367734\n",
      "Topic  3  :  -0.9873932973129446\n",
      "Topic  4  :  -1.4461562455258954\n",
      "Topic  5  :  -0.4564107661345774\n",
      "Topic  6  :  0.015458042384246955\n",
      "Topic  7  :  1.209830378171685\n",
      "Topic  8  :  0.3215018446454977\n",
      "Topic  9  :  -0.8754938744952735\n",
      "Topic  10  :  0.022176114411216905\n",
      "Topic  11  :  0.1034998419591047\n",
      "Topic  12  :  -0.24281431879341073\n",
      "Topic  13  :  0.5143956784300163\n",
      "Topic  14  :  -0.13038422163762411\n",
      "Topic  15  :  0.39652597794775185\n",
      "Topic  16  :  -0.6156210232732684\n",
      "Topic  17  :  -0.11383758659818442\n",
      "Topic  18  :  0.2677718570716287\n",
      "Topic  19  :  1.0868339706645898\n"
     ]
    }
   ],
   "source": [
    "l=lsa_top[0]\n",
    "print(\"Document 0 :\")\n",
    "for i,topic in enumerate(l):\n",
    "  print(\"Topic \",i,\" : \",topic*100)"
   ]
  },
  {
   "cell_type": "code",
   "execution_count": 45,
   "id": "e538e4cb",
   "metadata": {},
   "outputs": [
    {
     "name": "stdout",
     "output_type": "stream",
     "text": [
      "Topic 0: \n",
      "interview extended michael david police john nrl james ben andrew matt smith scott mark chris peter man nathan luke ivan \n",
      "\n",
      "Topic 1: \n",
      "police man charged court murder new crash death missing car woman accused fire dies search sydney found nsw probe jailed \n",
      "\n",
      "Topic 2: \n",
      "new police says govt council nsw australia plan water us rural health wa qld fire probe sa government report call \n",
      "\n",
      "Topic 3: \n",
      "police investigate probe search hunt missing officer arrest seek fatal shooting witnesses say seize officers chase find suspicious warn raid \n",
      "\n",
      "Topic 4: \n",
      "new man police zealand charged york murder search laws stabbing missing jailed interview assault investigate hunt papua eve wales appoints \n",
      "\n",
      "Topic 5: \n",
      "rural news abc national nsw business weather market sport new man analysis reporter entertainment qld sa charged exchange speaks friday \n",
      "\n",
      "Topic 6: \n",
      "court accused murder face faces told charges case police trial front rural news abc sex high hears drug appeal death \n",
      "\n",
      "Topic 7: \n",
      "fire council govt water nsw plan urged house court health qld funding sa wa residents school accused hospital boost public \n",
      "\n",
      "Topic 8: \n",
      "says man council govt charged plan water health rural police minister nsw missing labor opposition mp sa budget government funding \n",
      "\n",
      "Topic 9: \n",
      "fire says court house abc new news murder weather crews accused business rural threat sport destroys suspicious face blaze police \n",
      "\n",
      "Topic 10: \n",
      "australia day fire man world cup charged south murder police test win coronavirus first nsw missing wins vs india live \n",
      "\n",
      "Topic 11: \n",
      "us council abc fire business market weather man plan sport news open charged iraq australian police analysis entertainment talks water \n",
      "\n",
      "Topic 12: \n",
      "us nsw rural govt qld health country sa iraq national man election hour charged open wa north australian government urged \n",
      "\n",
      "Topic 13: \n",
      "govt abc weather business urged sport wa market health australian entertainment water hospital analysis back report funding boost qld act \n",
      "\n",
      "Topic 14: \n",
      "govt australia us crash rural national urged news fire man charged police council fatal new car dies accused killed sa \n",
      "\n",
      "Topic 15: \n",
      "death charged murder trial woman sydney australian two toll health stabbing probe inquest world assault driver teen call men cup \n",
      "\n",
      "Topic 16: \n",
      "nsw abc council australia weather us country hour coast sport north charged south business coronavirus election crash entertainment says gold \n",
      "\n",
      "Topic 17: \n",
      "found missing murder woman search australia death body guilty water dead us charged trial continues two pleads qld govt safe \n",
      "\n",
      "Topic 18: \n",
      "water plan restrictions australia us charged crash farmers murray supply sydney residents man police irrigators use rain sa get price \n",
      "\n",
      "Topic 19: \n",
      "death health australian man hospital call australia report mental wa government calls minister toll qld coronavirus funding dies service indigenous \n",
      "\n"
     ]
    }
   ],
   "source": [
    "# most important words for each topic\n",
    "vocab = vect.get_feature_names()\n",
    "\n",
    "for i, comp in enumerate(lsa_model.components_):\n",
    "    vocab_comp = zip(vocab, comp)\n",
    "    sorted_words = sorted(vocab_comp, key= lambda x:x[1], reverse=True)[:20]\n",
    "    print(\"Topic \"+str(i)+\": \")\n",
    "    for t in sorted_words:\n",
    "        print(t[0],end=\" \")\n",
    "    print(\"\\n\")"
   ]
  },
  {
   "cell_type": "code",
   "execution_count": 43,
   "id": "03513ca9",
   "metadata": {},
   "outputs": [],
   "source": [
    "lsa_top=lsa_model.fit_transform(vect_text)\n",
    "topic_values = lsa_top\n",
    "df2['Topic'] = topic_values.argmax(axis=1)"
   ]
  },
  {
   "cell_type": "code",
   "execution_count": 44,
   "id": "16d6efd2",
   "metadata": {},
   "outputs": [
    {
     "data": {
      "text/html": [
       "<div>\n",
       "<style scoped>\n",
       "    .dataframe tbody tr th:only-of-type {\n",
       "        vertical-align: middle;\n",
       "    }\n",
       "\n",
       "    .dataframe tbody tr th {\n",
       "        vertical-align: top;\n",
       "    }\n",
       "\n",
       "    .dataframe thead th {\n",
       "        text-align: right;\n",
       "    }\n",
       "</style>\n",
       "<table border=\"1\" class=\"dataframe\">\n",
       "  <thead>\n",
       "    <tr style=\"text-align: right;\">\n",
       "      <th></th>\n",
       "      <th>publish_date</th>\n",
       "      <th>headline_text</th>\n",
       "      <th>headline_clean</th>\n",
       "      <th>Topic</th>\n",
       "    </tr>\n",
       "  </thead>\n",
       "  <tbody>\n",
       "    <tr>\n",
       "      <th>0</th>\n",
       "      <td>2003-02-19</td>\n",
       "      <td>aba decides against community broadcasting lic...</td>\n",
       "      <td>aba decides community broadcasting licence</td>\n",
       "      <td>2</td>\n",
       "    </tr>\n",
       "    <tr>\n",
       "      <th>1</th>\n",
       "      <td>2003-02-19</td>\n",
       "      <td>act fire witnesses must be aware of defamation</td>\n",
       "      <td>act fire witnesses must aware defamation</td>\n",
       "      <td>9</td>\n",
       "    </tr>\n",
       "    <tr>\n",
       "      <th>2</th>\n",
       "      <td>2003-02-19</td>\n",
       "      <td>a g calls for infrastructure protection summit</td>\n",
       "      <td>g calls infrastructure protection summit</td>\n",
       "      <td>19</td>\n",
       "    </tr>\n",
       "    <tr>\n",
       "      <th>3</th>\n",
       "      <td>2003-02-19</td>\n",
       "      <td>air nz staff in aust strike for pay rise</td>\n",
       "      <td>air nz staff aust strike pay rise</td>\n",
       "      <td>2</td>\n",
       "    </tr>\n",
       "    <tr>\n",
       "      <th>4</th>\n",
       "      <td>2003-02-19</td>\n",
       "      <td>air nz strike to affect australian travellers</td>\n",
       "      <td>air nz strike affect australian travellers</td>\n",
       "      <td>19</td>\n",
       "    </tr>\n",
       "    <tr>\n",
       "      <th>...</th>\n",
       "      <td>...</td>\n",
       "      <td>...</td>\n",
       "      <td>...</td>\n",
       "      <td>...</td>\n",
       "    </tr>\n",
       "    <tr>\n",
       "      <th>1226253</th>\n",
       "      <td>2020-12-31</td>\n",
       "      <td>what abc readers learned from 2020 looking bac...</td>\n",
       "      <td>abc readers learned 2020 looking back year</td>\n",
       "      <td>13</td>\n",
       "    </tr>\n",
       "    <tr>\n",
       "      <th>1226254</th>\n",
       "      <td>2020-12-31</td>\n",
       "      <td>what are the south african and uk variants of ...</td>\n",
       "      <td>south african uk variants covid 19</td>\n",
       "      <td>10</td>\n",
       "    </tr>\n",
       "    <tr>\n",
       "      <th>1226255</th>\n",
       "      <td>2020-12-31</td>\n",
       "      <td>what victorias coronavirus restrictions mean f...</td>\n",
       "      <td>victorias coronavirus restrictions mean new ye...</td>\n",
       "      <td>2</td>\n",
       "    </tr>\n",
       "    <tr>\n",
       "      <th>1226256</th>\n",
       "      <td>2020-12-31</td>\n",
       "      <td>whats life like as an american doctor during c...</td>\n",
       "      <td>whats life like american doctor covid</td>\n",
       "      <td>1</td>\n",
       "    </tr>\n",
       "    <tr>\n",
       "      <th>1226257</th>\n",
       "      <td>2020-12-31</td>\n",
       "      <td>womens shed canberra reskilling unemployed pan...</td>\n",
       "      <td>womens shed canberra reskilling unemployed pan...</td>\n",
       "      <td>1</td>\n",
       "    </tr>\n",
       "  </tbody>\n",
       "</table>\n",
       "<p>1226258 rows × 4 columns</p>\n",
       "</div>"
      ],
      "text/plain": [
       "        publish_date                                      headline_text  \\\n",
       "0         2003-02-19  aba decides against community broadcasting lic...   \n",
       "1         2003-02-19     act fire witnesses must be aware of defamation   \n",
       "2         2003-02-19     a g calls for infrastructure protection summit   \n",
       "3         2003-02-19           air nz staff in aust strike for pay rise   \n",
       "4         2003-02-19      air nz strike to affect australian travellers   \n",
       "...              ...                                                ...   \n",
       "1226253   2020-12-31  what abc readers learned from 2020 looking bac...   \n",
       "1226254   2020-12-31  what are the south african and uk variants of ...   \n",
       "1226255   2020-12-31  what victorias coronavirus restrictions mean f...   \n",
       "1226256   2020-12-31  whats life like as an american doctor during c...   \n",
       "1226257   2020-12-31  womens shed canberra reskilling unemployed pan...   \n",
       "\n",
       "                                            headline_clean  Topic  \n",
       "0               aba decides community broadcasting licence      2  \n",
       "1                 act fire witnesses must aware defamation      9  \n",
       "2                 g calls infrastructure protection summit     19  \n",
       "3                        air nz staff aust strike pay rise      2  \n",
       "4               air nz strike affect australian travellers     19  \n",
       "...                                                    ...    ...  \n",
       "1226253         abc readers learned 2020 looking back year     13  \n",
       "1226254                 south african uk variants covid 19     10  \n",
       "1226255  victorias coronavirus restrictions mean new ye...      2  \n",
       "1226256              whats life like american doctor covid      1  \n",
       "1226257  womens shed canberra reskilling unemployed pan...      1  \n",
       "\n",
       "[1226258 rows x 4 columns]"
      ]
     },
     "execution_count": 44,
     "metadata": {},
     "output_type": "execute_result"
    }
   ],
   "source": [
    "df2"
   ]
  },
  {
   "cell_type": "code",
   "execution_count": 47,
   "id": "3bd80e95",
   "metadata": {},
   "outputs": [
    {
     "name": "stdout",
     "output_type": "stream",
     "text": [
      "Topic 0: \n",
      "interview extended michael david \n",
      "\n",
      "Topic 1: \n",
      "police man charged court \n",
      "\n",
      "Topic 2: \n",
      "new police says govt \n",
      "\n",
      "Topic 3: \n",
      "police investigate probe search \n",
      "\n",
      "Topic 4: \n",
      "new man police zealand \n",
      "\n",
      "Topic 5: \n",
      "rural news abc national \n",
      "\n",
      "Topic 6: \n",
      "court accused murder face \n",
      "\n",
      "Topic 7: \n",
      "fire council govt water \n",
      "\n",
      "Topic 8: \n",
      "says man council govt \n",
      "\n",
      "Topic 9: \n",
      "fire says court house \n",
      "\n",
      "Topic 10: \n",
      "australia day fire man \n",
      "\n",
      "Topic 11: \n",
      "us council abc fire \n",
      "\n",
      "Topic 12: \n",
      "us nsw rural govt \n",
      "\n",
      "Topic 13: \n",
      "govt abc weather business \n",
      "\n",
      "Topic 14: \n",
      "govt australia us crash \n",
      "\n",
      "Topic 15: \n",
      "death charged murder trial \n",
      "\n",
      "Topic 16: \n",
      "nsw abc council australia \n",
      "\n",
      "Topic 17: \n",
      "found missing murder woman \n",
      "\n",
      "Topic 18: \n",
      "water plan restrictions australia \n",
      "\n",
      "Topic 19: \n",
      "death health australian man \n",
      "\n"
     ]
    }
   ],
   "source": [
    "# most important words for each topic\n",
    "vocab = vect.get_feature_names()\n",
    "\n",
    "for i, comp in enumerate(lsa_model.components_):\n",
    "    vocab_comp = zip(vocab, comp)\n",
    "    sorted_words = sorted(vocab_comp, key= lambda x:x[1], reverse=True)[:4]\n",
    "    print(\"Topic \"+str(i)+\": \")\n",
    "    for t in sorted_words:\n",
    "        print(t[0],end=\" \")\n",
    "    (print(\"\\n\"))"
   ]
  },
  {
   "cell_type": "code",
   "execution_count": 52,
   "id": "d7f3f074",
   "metadata": {},
   "outputs": [
    {
     "data": {
      "text/plain": [
       "<bound method NDFrame.head of               KeyWord 0    KeyWord 1     KeyWord 2  KeyWord 3\n",
       "LSA_Topic 0   interview     extended       michael      david\n",
       "LSA_Topic 1      police          man       charged      court\n",
       "LSA_Topic 2         new       police          says       govt\n",
       "LSA_Topic 3      police  investigate         probe     search\n",
       "LSA_Topic 4         new          man        police    zealand\n",
       "LSA_Topic 5       rural         news           abc   national\n",
       "LSA_Topic 6       court      accused        murder       face\n",
       "LSA_Topic 7        fire      council          govt      water\n",
       "LSA_Topic 8        says          man       council       govt\n",
       "LSA_Topic 9        fire         says         court      house\n",
       "LSA_Topic 10  australia          day          fire        man\n",
       "LSA_Topic 11         us      council           abc       fire\n",
       "LSA_Topic 12         us          nsw         rural       govt\n",
       "LSA_Topic 13       govt          abc       weather   business\n",
       "LSA_Topic 14       govt    australia            us      crash\n",
       "LSA_Topic 15      death      charged        murder      trial\n",
       "LSA_Topic 16        nsw          abc       council  australia\n",
       "LSA_Topic 17      found      missing        murder      woman\n",
       "LSA_Topic 18      water         plan  restrictions  australia\n",
       "LSA_Topic 19      death       health    australian        man>"
      ]
     },
     "execution_count": 52,
     "metadata": {},
     "output_type": "execute_result"
    }
   ],
   "source": [
    "#Create df based on top keywords\n",
    "def show_topics(TfidfVectorizer, lsa_model=lsa_model, n_words=2):\n",
    "    keywords = np.array(vect.get_feature_names())\n",
    "    topic_keywords = []\n",
    "    for topic_weights in lsa_model.components_:\n",
    "        top_keyword_locs = (-topic_weights).argsort()[:n_words]\n",
    "        topic_keywords.append(keywords.take(top_keyword_locs))\n",
    "    return topic_keywords\n",
    "\n",
    "topic_keywords = show_topics(TfidfVectorizer, lsa_model=lsa_model, n_words=4)        \n",
    "\n",
    "# Topic - Keywords Dataframe\n",
    "top_keywords = pd.DataFrame(topic_keywords)\n",
    "top_keywords.columns = ['KeyWord '+str(i) for i in range(top_keywords.shape[1])]\n",
    "top_keywords.index = ['LSA_Topic '+str(i) for i in range(top_keywords.shape[0])]\n",
    "top_keywords.head"
   ]
  },
  {
   "cell_type": "code",
   "execution_count": 53,
   "id": "9195df82",
   "metadata": {},
   "outputs": [],
   "source": [
    "top_keywords['Topic'] = np.arange(top_keywords.shape[0])"
   ]
  },
  {
   "cell_type": "code",
   "execution_count": 54,
   "id": "bc8f9cfc",
   "metadata": {},
   "outputs": [],
   "source": [
    "# Merging DF2 and LSA output\n",
    "mergedDF = pd.merge(df2,top_keywords, on=\"Topic\")"
   ]
  },
  {
   "cell_type": "code",
   "execution_count": 55,
   "id": "7195e708",
   "metadata": {},
   "outputs": [
    {
     "data": {
      "text/html": [
       "<div>\n",
       "<style scoped>\n",
       "    .dataframe tbody tr th:only-of-type {\n",
       "        vertical-align: middle;\n",
       "    }\n",
       "\n",
       "    .dataframe tbody tr th {\n",
       "        vertical-align: top;\n",
       "    }\n",
       "\n",
       "    .dataframe thead th {\n",
       "        text-align: right;\n",
       "    }\n",
       "</style>\n",
       "<table border=\"1\" class=\"dataframe\">\n",
       "  <thead>\n",
       "    <tr style=\"text-align: right;\">\n",
       "      <th></th>\n",
       "      <th>publish_date</th>\n",
       "      <th>headline_text</th>\n",
       "      <th>headline_clean</th>\n",
       "      <th>Topic</th>\n",
       "      <th>KeyWord 0</th>\n",
       "      <th>KeyWord 1</th>\n",
       "      <th>KeyWord 2</th>\n",
       "      <th>KeyWord 3</th>\n",
       "    </tr>\n",
       "  </thead>\n",
       "  <tbody>\n",
       "    <tr>\n",
       "      <th>0</th>\n",
       "      <td>2003-02-19</td>\n",
       "      <td>aba decides against community broadcasting lic...</td>\n",
       "      <td>aba decides community broadcasting licence</td>\n",
       "      <td>2</td>\n",
       "      <td>new</td>\n",
       "      <td>police</td>\n",
       "      <td>says</td>\n",
       "      <td>govt</td>\n",
       "    </tr>\n",
       "    <tr>\n",
       "      <th>1</th>\n",
       "      <td>2003-02-19</td>\n",
       "      <td>air nz staff in aust strike for pay rise</td>\n",
       "      <td>air nz staff aust strike pay rise</td>\n",
       "      <td>2</td>\n",
       "      <td>new</td>\n",
       "      <td>police</td>\n",
       "      <td>says</td>\n",
       "      <td>govt</td>\n",
       "    </tr>\n",
       "    <tr>\n",
       "      <th>2</th>\n",
       "      <td>2003-02-19</td>\n",
       "      <td>antic delighted with record breaking barca</td>\n",
       "      <td>antic delighted record breaking barca</td>\n",
       "      <td>2</td>\n",
       "      <td>new</td>\n",
       "      <td>police</td>\n",
       "      <td>says</td>\n",
       "      <td>govt</td>\n",
       "    </tr>\n",
       "    <tr>\n",
       "      <th>3</th>\n",
       "      <td>2003-02-19</td>\n",
       "      <td>barca take record as robson celebrates birthda...</td>\n",
       "      <td>barca take record robson celebrates birthday</td>\n",
       "      <td>2</td>\n",
       "      <td>new</td>\n",
       "      <td>police</td>\n",
       "      <td>says</td>\n",
       "      <td>govt</td>\n",
       "    </tr>\n",
       "    <tr>\n",
       "      <th>4</th>\n",
       "      <td>2003-02-19</td>\n",
       "      <td>bathhouse plans move ahead</td>\n",
       "      <td>bathhouse plans move ahead</td>\n",
       "      <td>2</td>\n",
       "      <td>new</td>\n",
       "      <td>police</td>\n",
       "      <td>says</td>\n",
       "      <td>govt</td>\n",
       "    </tr>\n",
       "    <tr>\n",
       "      <th>...</th>\n",
       "      <td>...</td>\n",
       "      <td>...</td>\n",
       "      <td>...</td>\n",
       "      <td>...</td>\n",
       "      <td>...</td>\n",
       "      <td>...</td>\n",
       "      <td>...</td>\n",
       "      <td>...</td>\n",
       "    </tr>\n",
       "    <tr>\n",
       "      <th>1226253</th>\n",
       "      <td>2020-11-19</td>\n",
       "      <td>us lifts boeing 737 max flight ban after crash...</td>\n",
       "      <td>us lifts boeing 737 max flight ban crash probes</td>\n",
       "      <td>14</td>\n",
       "      <td>govt</td>\n",
       "      <td>australia</td>\n",
       "      <td>us</td>\n",
       "      <td>crash</td>\n",
       "    </tr>\n",
       "    <tr>\n",
       "      <th>1226254</th>\n",
       "      <td>2020-11-24</td>\n",
       "      <td>scott morrison china us australia indo pacific</td>\n",
       "      <td>scott morrison china us australia indo pacific</td>\n",
       "      <td>14</td>\n",
       "      <td>govt</td>\n",
       "      <td>australia</td>\n",
       "      <td>us</td>\n",
       "      <td>crash</td>\n",
       "    </tr>\n",
       "    <tr>\n",
       "      <th>1226255</th>\n",
       "      <td>2020-12-02</td>\n",
       "      <td>parler downloads surged in australia after us ...</td>\n",
       "      <td>parler downloads surged australia us election</td>\n",
       "      <td>14</td>\n",
       "      <td>govt</td>\n",
       "      <td>australia</td>\n",
       "      <td>us</td>\n",
       "      <td>crash</td>\n",
       "    </tr>\n",
       "    <tr>\n",
       "      <th>1226256</th>\n",
       "      <td>2020-12-08</td>\n",
       "      <td>nt worksafe charges fatal central australia he...</td>\n",
       "      <td>nt worksafe charges fatal central australia he...</td>\n",
       "      <td>14</td>\n",
       "      <td>govt</td>\n",
       "      <td>australia</td>\n",
       "      <td>us</td>\n",
       "      <td>crash</td>\n",
       "    </tr>\n",
       "    <tr>\n",
       "      <th>1226257</th>\n",
       "      <td>2020-12-13</td>\n",
       "      <td>coronavirus australia live news us hits 16 mil...</td>\n",
       "      <td>coronavirus australia live news us hits 16 mil...</td>\n",
       "      <td>14</td>\n",
       "      <td>govt</td>\n",
       "      <td>australia</td>\n",
       "      <td>us</td>\n",
       "      <td>crash</td>\n",
       "    </tr>\n",
       "  </tbody>\n",
       "</table>\n",
       "<p>1226258 rows × 8 columns</p>\n",
       "</div>"
      ],
      "text/plain": [
       "        publish_date                                      headline_text  \\\n",
       "0         2003-02-19  aba decides against community broadcasting lic...   \n",
       "1         2003-02-19           air nz staff in aust strike for pay rise   \n",
       "2         2003-02-19         antic delighted with record breaking barca   \n",
       "3         2003-02-19  barca take record as robson celebrates birthda...   \n",
       "4         2003-02-19                         bathhouse plans move ahead   \n",
       "...              ...                                                ...   \n",
       "1226253   2020-11-19  us lifts boeing 737 max flight ban after crash...   \n",
       "1226254   2020-11-24     scott morrison china us australia indo pacific   \n",
       "1226255   2020-12-02  parler downloads surged in australia after us ...   \n",
       "1226256   2020-12-08  nt worksafe charges fatal central australia he...   \n",
       "1226257   2020-12-13  coronavirus australia live news us hits 16 mil...   \n",
       "\n",
       "                                            headline_clean  Topic KeyWord 0  \\\n",
       "0               aba decides community broadcasting licence      2       new   \n",
       "1                        air nz staff aust strike pay rise      2       new   \n",
       "2                    antic delighted record breaking barca      2       new   \n",
       "3             barca take record robson celebrates birthday      2       new   \n",
       "4                               bathhouse plans move ahead      2       new   \n",
       "...                                                    ...    ...       ...   \n",
       "1226253    us lifts boeing 737 max flight ban crash probes     14      govt   \n",
       "1226254     scott morrison china us australia indo pacific     14      govt   \n",
       "1226255      parler downloads surged australia us election     14      govt   \n",
       "1226256  nt worksafe charges fatal central australia he...     14      govt   \n",
       "1226257  coronavirus australia live news us hits 16 mil...     14      govt   \n",
       "\n",
       "         KeyWord 1 KeyWord 2 KeyWord 3  \n",
       "0           police      says      govt  \n",
       "1           police      says      govt  \n",
       "2           police      says      govt  \n",
       "3           police      says      govt  \n",
       "4           police      says      govt  \n",
       "...            ...       ...       ...  \n",
       "1226253  australia        us     crash  \n",
       "1226254  australia        us     crash  \n",
       "1226255  australia        us     crash  \n",
       "1226256  australia        us     crash  \n",
       "1226257  australia        us     crash  \n",
       "\n",
       "[1226258 rows x 8 columns]"
      ]
     },
     "execution_count": 55,
     "metadata": {},
     "output_type": "execute_result"
    }
   ],
   "source": [
    "mergedDF"
   ]
  },
  {
   "cell_type": "markdown",
   "id": "f30925fb",
   "metadata": {},
   "source": [
    "## Model #2: Latent Dirichlet Allocation (LDA)"
   ]
  },
  {
   "cell_type": "code",
   "execution_count": 56,
   "id": "271b0948",
   "metadata": {},
   "outputs": [],
   "source": [
    "vectorizer = CountVectorizer(min_df=5, max_df=0.9, stop_words='english', lowercase=True, token_pattern='[a-zA-Z\\-][a-zA-Z\\-]{2,}')\n",
    "\n",
    "\n",
    "data_vectorized = vectorizer.fit_transform(df2[\"headline_clean\"])"
   ]
  },
  {
   "cell_type": "code",
   "execution_count": 57,
   "id": "814d2285",
   "metadata": {},
   "outputs": [],
   "source": [
    "from sklearn.decomposition import LatentDirichletAllocation\n",
    "lda_model=LatentDirichletAllocation(n_components=10,learning_method='online',random_state=42,max_iter=1) \n",
    "# n_components is the number of topics"
   ]
  },
  {
   "cell_type": "code",
   "execution_count": 58,
   "id": "df08fcf5",
   "metadata": {},
   "outputs": [],
   "source": [
    "lda_top=lda_model.fit_transform(data_vectorized)\n"
   ]
  },
  {
   "cell_type": "code",
   "execution_count": 59,
   "id": "551ea3f3",
   "metadata": {},
   "outputs": [
    {
     "name": "stdout",
     "output_type": "stream",
     "text": [
      "(1226258, 10)\n",
      "[[0.01666667 0.0166668  0.01666667 ... 0.18333063 0.01666667 0.01666667]\n",
      " [0.02       0.02       0.02       ... 0.82       0.02       0.02      ]\n",
      " [0.62000002 0.02       0.02       ... 0.02       0.02       0.02      ]\n",
      " ...\n",
      " [0.0125     0.1375     0.01250092 ... 0.15014399 0.0125     0.37455085]\n",
      " [0.15714285 0.01428986 0.01428571 ... 0.15714284 0.01428571 0.01428571]\n",
      " [0.01666667 0.18333334 0.35       ... 0.01666667 0.18333331 0.01666667]]\n"
     ]
    }
   ],
   "source": [
    "print(lda_top.shape)  # (no_of_doc,no_of_topics)\n",
    "print(lda_top)"
   ]
  },
  {
   "cell_type": "code",
   "execution_count": 60,
   "id": "1203111b",
   "metadata": {},
   "outputs": [
    {
     "name": "stdout",
     "output_type": "stream",
     "text": [
      "Document 0: \n",
      "Topic  0 :  1.6666666718455292 %\n",
      "Topic  1 :  1.6666799551453324 %\n",
      "Topic  2 :  1.6666666787795923 %\n",
      "Topic  3 :  1.6666666688400753 %\n",
      "Topic  4 :  68.33358997886766 %\n",
      "Topic  5 :  1.6666666724880586 %\n",
      "Topic  6 :  1.666666668868951 %\n",
      "Topic  7 :  18.333063223317843 %\n",
      "Topic  8 :  1.666666668942221 %\n",
      "Topic  9 :  1.666666812904733 %\n"
     ]
    }
   ],
   "source": [
    "# composition of doc 0 for eg\n",
    "print(\"Document 0: \")\n",
    "for i,topic in enumerate(lda_top[0]):\n",
    "  print(\"Topic \",i,\": \",topic*100,\"%\")"
   ]
  },
  {
   "cell_type": "code",
   "execution_count": 61,
   "id": "c745bd7a",
   "metadata": {},
   "outputs": [
    {
     "name": "stdout",
     "output_type": "stream",
     "text": [
      "[[1.00001416e-01 1.00002840e-01 1.00056574e-01 ... 1.00027201e-01\n",
      "  1.00000001e-01 1.00000347e-01]\n",
      " [1.00001901e-01 1.00004341e-01 1.00029743e-01 ... 1.00058461e-01\n",
      "  1.00000001e-01 1.00000308e-01]\n",
      " [1.00020175e-01 1.00004832e-01 1.00014616e-01 ... 1.00039318e-01\n",
      "  1.00000005e-01 1.00000479e-01]\n",
      " ...\n",
      " [1.00010189e-01 1.11113485e+02 1.00022131e-01 ... 1.37142635e+02\n",
      "  1.00000064e-01 1.00000453e-01]\n",
      " [1.00017947e-01 1.00011738e-01 1.00108685e-01 ... 1.00038990e-01\n",
      "  1.00000295e-01 1.00000315e-01]\n",
      " [1.00020367e-01 1.00006979e-01 1.01655085e-01 ... 1.00006339e-01\n",
      "  1.00000003e-01 1.23244265e-01]]\n",
      "(10, 37777)\n"
     ]
    }
   ],
   "source": [
    "print(lda_model.components_)\n",
    "print(lda_model.components_.shape)  # (no_of_topics*no_of_words)"
   ]
  },
  {
   "cell_type": "code",
   "execution_count": 62,
   "id": "4036faec",
   "metadata": {},
   "outputs": [
    {
     "name": "stdout",
     "output_type": "stream",
     "text": [
      "Topic 0: \n",
      "grow attracts minimum democracy brothel burnett exports parliament pilot korea \n",
      "\n",
      "Topic 1: \n",
      "sees plans kangaroos sends settlement poll screen wanted grass cyber \n",
      "\n",
      "Topic 2: \n",
      "waratahs 23 suicide masters fees subsidy highest drum staffing xi \n",
      "\n",
      "Topic 3: \n",
      "analysis wary trade affected rider failing doctor chief confusion wins \n",
      "\n",
      "Topic 4: \n",
      "grower dean mean orders obesity airline know albanese congress longreach \n",
      "\n",
      "Topic 5: \n",
      "game cambodian fitness mental crimes bravery crime childcare intelligence missed \n",
      "\n",
      "Topic 6: \n",
      "suspend pirates hour armed struggle demand muslims diabetes restaurant tech \n",
      "\n",
      "Topic 7: \n",
      "blues exposed arabia ward francis knights counselling tribute gunners survives \n",
      "\n",
      "Topic 8: \n",
      "groups bill pull sitting walsh register good cfmeu paying days \n",
      "\n",
      "Topic 9: \n",
      "considers child growers acid washington gardens retire schumacher starting ditch \n",
      "\n"
     ]
    }
   ],
   "source": [
    "# most important words for each topic\n",
    "vocab = vect.get_feature_names()\n",
    "\n",
    "for i, comp in enumerate(lda_model.components_):\n",
    "    vocab_comp = zip(vocab, comp)\n",
    "    sorted_words = sorted(vocab_comp, key= lambda x:x[1], reverse=True)[:10]\n",
    "    print(\"Topic \"+str(i)+\": \")\n",
    "    for t in sorted_words:\n",
    "        print(t[0],end=\" \")\n",
    "    print(\"\\n\")"
   ]
  },
  {
   "cell_type": "code",
   "execution_count": 63,
   "id": "ab3b01fb",
   "metadata": {},
   "outputs": [],
   "source": [
    "import pyLDAvis.sklearn\n",
    "import warnings\n",
    "warnings.filterwarnings('ignore')"
   ]
  },
  {
   "cell_type": "code",
   "execution_count": 64,
   "id": "4d41fcd0",
   "metadata": {},
   "outputs": [
    {
     "data": {
      "text/html": [
       "\n",
       "<link rel=\"stylesheet\" type=\"text/css\" href=\"https://cdn.jsdelivr.net/gh/bmabey/pyLDAvis@3.3.1/pyLDAvis/js/ldavis.v1.0.0.css\">\n",
       "\n",
       "\n",
       "<div id=\"ldavis_el31544140203338374944949244007\"></div>\n",
       "<script type=\"text/javascript\">\n",
       "\n",
       "var ldavis_el31544140203338374944949244007_data = {\"mdsDat\": {\"x\": [32.42095184326172, 0.648955225944519, 71.01968383789062, 3.7859814167022705, -42.666500091552734, -3.6216893196105957, -3.632401704788208, -36.58440017700195, 44.391380310058594, 40.235809326171875], \"y\": [8.115229606628418, 71.70709991455078, 9.971006393432617, 33.18513488769531, -9.22206974029541, -43.52651596069336, -4.171707630157471, 35.804412841796875, 50.61538314819336, -31.591665267944336], \"topics\": [1, 2, 3, 4, 5, 6, 7, 8, 9, 10], \"cluster\": [1, 1, 1, 1, 1, 1, 1, 1, 1, 1], \"Freq\": [10.459366101249204, 10.39544124129812, 10.366614192301697, 10.324580147322527, 10.109414531300176, 9.926577452243924, 9.82119942410534, 9.65743301068868, 9.639469862395567, 9.299904037094773]}, \"tinfo\": {\"Term\": [\"australia\", \"coronavirus\", \"police\", \"new\", \"covid\", \"says\", \"trump\", \"australian\", \"man\", \"queensland\", \"victoria\", \"sydney\", \"election\", \"government\", \"court\", \"nsw\", \"donald\", \"melbourne\", \"china\", \"news\", \"south\", \"health\", \"day\", \"death\", \"world\", \"coast\", \"murder\", \"cases\", \"home\", \"woman\", \"man\", \"court\", \"murder\", \"woman\", \"charged\", \"dies\", \"trial\", \"attack\", \"morrison\", \"change\", \"interview\", \"face\", \"michael\", \"alan\", \"weather\", \"assault\", \"charges\", \"hits\", \"protest\", \"peter\", \"beach\", \"andrews\", \"ahead\", \"farm\", \"joe\", \"kohler\", \"fatal\", \"law\", \"run\", \"security\", \"police\", \"australian\", \"adelaide\", \"calls\", \"perth\", \"car\", \"tasmanian\", \"street\", \"premier\", \"public\", \"set\", \"shooting\", \"review\", \"funding\", \"friday\", \"driver\", \"emergency\", \"warning\", \"sexual\", \"future\", \"pay\", \"east\", \"protests\", \"laws\", \"officer\", \"inquest\", \"international\", \"finds\", \"station\", \"energy\", \"help\", \"workers\", \"world\", \"coast\", \"north\", \"case\", \"hospital\", \"royal\", \"gold\", \"west\", \"pandemic\", \"accused\", \"regional\", \"commission\", \"business\", \"climate\", \"budget\", \"country\", \"abuse\", \"rural\", \"young\", \"league\", \"vaccine\", \"parliament\", \"video\", \"storm\", \"india\", \"social\", \"david\", \"concerns\", \"men\", \"told\", \"nsw\", \"new\", \"sydney\", \"death\", \"tasmania\", \"live\", \"school\", \"high\", \"nrl\", \"amid\", \"alleged\", \"australias\", \"chinese\", \"rise\", \"market\", \"quarantine\", \"wall\", \"speaks\", \"season\", \"aboriginal\", \"end\", \"claims\", \"monday\", \"zealand\", \"thursday\", \"food\", \"investigation\", \"history\", \"takes\", \"service\", \"outback\", \"coronavirus\", \"canberra\", \"restrictions\", \"border\", \"national\", \"water\", \"hit\", \"sex\", \"farmers\", \"lockdown\", \"markets\", \"time\", \"wins\", \"council\", \"big\", \"war\", \"plan\", \"ban\", \"industry\", \"christmas\", \"northern\", \"travel\", \"residents\", \"support\", \"centre\", \"park\", \"near\", \"rain\", \"campaign\", \"hobart\", \"update\", \"covid\", \"queensland\", \"election\", \"brisbane\", \"federal\", \"house\", \"open\", \"test\", \"island\", \"labor\", \"guilty\", \"say\", \"children\", \"power\", \"students\", \"old\", \"biden\", \"drug\", \"city\", \"crisis\", \"hong\", \"baby\", \"white\", \"western\", \"river\", \"prison\", \"party\", \"kong\", \"free\", \"action\", \"dog\", \"nsw\", \"says\", \"government\", \"china\", \"home\", \"qld\", \"years\", \"dead\", \"care\", \"win\", \"killed\", \"aged\", \"john\", \"hotel\", \"deal\", \"arrested\", \"act\", \"sentenced\", \"bushfires\", \"daniel\", \"changes\", \"jail\", \"records\", \"latest\", \"grand\", \"asx\", \"despite\", \"russia\", \"cut\", \"super\", \"cuts\", \"coronavirus\", \"victoria\", \"news\", \"health\", \"cases\", \"year\", \"crash\", \"bushfire\", \"state\", \"scott\", \"abc\", \"minister\", \"record\", \"drum\", \"finance\", \"work\", \"drought\", \"violence\", \"road\", \"mental\", \"port\", \"risk\", \"briefing\", \"fears\", \"jobs\", \"make\", \"victims\", \"outbreak\", \"domestic\", \"use\", \"womens\", \"coronavirus\", \"nsw\", \"australia\", \"donald\", \"day\", \"afl\", \"indigenous\", \"report\", \"victorian\", \"women\", \"cup\", \"darwin\", \"shows\", \"inquiry\", \"second\", \"program\", \"black\", \"deaths\", \"testing\", \"rules\", \"sea\", \"hears\", \"boy\", \"local\", \"youth\", \"thousands\", \"post\", \"job\", \"truck\", \"stories\", \"defence\", \"research\", \"trump\", \"melbourne\", \"south\", \"family\", \"people\", \"life\", \"child\", \"final\", \"missing\", \"community\", \"australians\", \"president\", \"fight\", \"million\", \"media\", \"trade\", \"jailed\", \"tax\", \"cricket\", \"tuesday\", \"return\", \"announces\", \"wednesday\", \"korea\", \"morning\", \"warns\", \"protesters\", \"turnbull\", \"fires\", \"bay\", \"covid\", \"coronavirus\"], \"Freq\": [35554.0, 79825.0, 31585.0, 29995.0, 35833.0, 24976.0, 22633.0, 23694.0, 23447.0, 22061.0, 17715.0, 18210.0, 16862.0, 16083.0, 15907.0, 27644.0, 14567.0, 14228.0, 13946.0, 12460.0, 12233.0, 11718.0, 11513.0, 11643.0, 11282.0, 11182.0, 11166.0, 10485.0, 10511.0, 10562.0, 23446.36396910351, 15907.23688931417, 11165.68880205697, 10561.443172339052, 9465.856205307266, 8386.760116862415, 7753.795245264872, 7625.047898770983, 7535.6461154686585, 7088.103936549117, 5590.4301878223405, 5252.387314317989, 4646.3276822960615, 4556.606108349096, 4546.195754334794, 4519.226406627397, 4271.4372150200925, 3974.2897730443365, 3885.6391057550627, 3872.3844123948475, 3861.8103701495506, 3822.587245395236, 3750.8210435742462, 3749.41755706279, 3741.5077651481797, 3680.958423171959, 3425.9691570789223, 3398.8857741300667, 3331.0339063772312, 3309.257722285654, 31585.049492625134, 23693.599777156454, 10301.709379328942, 8353.285066439075, 8091.745897974673, 7495.603242153442, 6269.515515156998, 5694.080917924644, 5374.9368106398215, 5243.66432194017, 4917.129313483123, 4653.741980690063, 4496.923309702814, 4487.068709143366, 4415.3469247062185, 4248.336451230085, 4133.436466968067, 4120.954860419041, 3998.083518741952, 3945.5717339257767, 3907.206339333094, 3889.4873794434384, 3840.5776638818497, 3688.317043216614, 3580.3661624817223, 3321.917681219995, 3312.1840956174506, 3307.7296235391323, 3287.5672220075044, 3253.416158042628, 4148.58841859987, 3961.463282431048, 11281.506214220068, 11181.71949093096, 8916.392632015584, 7428.082107837604, 7151.927247808878, 7017.303497522758, 6901.1590359352895, 6127.110340322093, 6073.797403281365, 6054.556402110085, 6029.158392779961, 5863.51454852592, 5847.922948967075, 5708.372005342031, 5701.722655418989, 4977.233919405727, 4963.604896334228, 4748.480705613083, 4415.931900712988, 4374.559919979137, 4278.383022890865, 4263.691024884781, 4229.358348054197, 4048.452824340513, 4028.147059097655, 3932.0056581552412, 3903.3325185153353, 3893.880707223512, 3566.2511030044434, 3383.2432513167264, 13296.938120327297, 29994.305831960068, 18209.975403210097, 11643.055841218846, 8529.003939647715, 8413.604123024335, 7532.914349380961, 6010.348969392274, 5856.633132110368, 5707.073869614286, 4758.039840125544, 4725.701297721301, 4699.328564318752, 4694.454801822636, 4685.501244573236, 4594.325642275675, 4592.051339264676, 4527.917139549575, 4440.783105325571, 3832.083295238504, 3777.0224018493714, 3618.2085551233367, 3592.1509242343504, 3500.2032642813483, 3419.826506140315, 3352.5407540882698, 3290.6018298122444, 3252.511477206875, 3128.006998936224, 3024.6496127927585, 3014.527994449782, 35247.73298786289, 10093.357810793485, 9839.043410808863, 9248.735080341732, 7666.332449903179, 6928.04743146595, 6550.714989378372, 6181.227527079156, 6066.453524524465, 6052.086215658947, 6013.318904815779, 5961.227422518476, 5880.785104523063, 5868.812001895791, 5624.106247166487, 5605.843796431475, 5528.999985880739, 5159.989339853136, 5054.423828760475, 4963.526135118411, 4627.098868563087, 4570.4475361807845, 4553.163309189288, 4281.994029161004, 4127.890397363683, 4114.367288760494, 4075.562048681338, 3885.2855397748435, 3850.133995412514, 3741.802617920893, 3613.2369932712472, 28338.35781100633, 22060.56173602581, 16861.665032954403, 8032.728683753688, 7973.329572293735, 7573.288179398992, 6833.816700558905, 6430.360436050765, 6321.3677562751645, 6273.688872524268, 5721.301490577981, 5272.130442355366, 5095.969376644276, 4965.602681003773, 4746.936870190943, 4497.387815040412, 4247.702989981587, 4081.441084265084, 4042.453533447175, 3869.8749901934393, 3784.2348376776154, 3752.3827182810287, 3748.556921346052, 3738.102101566035, 3693.6967721404644, 3684.7748206896736, 3599.3518008443093, 3545.5806585450296, 3465.04749306827, 3334.9503002660217, 3223.762278577806, 5262.200506528187, 24976.007440614507, 16083.163135863604, 13946.068647599017, 10510.360286940348, 8687.399778776593, 8565.046444791857, 6582.738195969447, 6418.499617410693, 5923.779213200191, 5735.72224692957, 5204.054315068866, 4629.291650007937, 4454.358868946318, 4317.6493882391205, 4288.815064533088, 4265.4782453254475, 3956.0530836298835, 3910.48063039113, 3882.6710910076667, 3754.7674791130735, 3636.579401303295, 3619.166074047269, 3391.4234826081256, 3262.221204218602, 3174.5028582397867, 3118.090717308108, 3033.510730370124, 3027.218660807669, 3001.03201080437, 2929.6871280323435, 12591.689291342178, 17715.06944411261, 12459.303006334101, 11717.96399443797, 10484.931718071275, 9295.880454165777, 8701.239777329565, 8288.341984067221, 8238.648948005495, 7059.780763885973, 6918.363919704018, 6700.416743087945, 5996.936568365249, 5957.237643709603, 4805.732929802844, 4741.538361206731, 4565.2125509290845, 4317.0167184121265, 4084.496360525774, 4003.447225336157, 3862.9577699986858, 3829.6282855584536, 3780.9240191509034, 3554.656751361735, 3352.420990403272, 3272.0928462497923, 3028.0448687518005, 3027.88841970735, 2964.023922382408, 2935.732802323415, 2792.3981134966207, 22751.82797343505, 9084.588990121398, 35553.292220295705, 14567.028586625975, 11512.250884572504, 9054.33964738293, 7653.31747361249, 7450.645392557836, 7278.205764061855, 6822.530127093705, 6560.344732289908, 5495.852830813493, 4651.62777801725, 4541.832488254691, 4427.7068424802455, 4245.450834892, 4147.373566008323, 4140.623940171901, 3487.30242166687, 3280.6237017249505, 2827.042338773615, 2772.335695428212, 2748.062597997289, 2746.4634077429937, 2715.593372322956, 2708.745980787865, 2642.694865780114, 2616.9645029475023, 2563.977059685091, 2528.3972247172546, 2415.434011287655, 2411.701796270859, 22632.35453130074, 14227.683793571605, 12233.074589025662, 7943.9262913031325, 7692.145020273494, 6483.045760123246, 6109.739453601754, 5958.989848551109, 5748.7559444061835, 5121.224008052865, 4607.945305899956, 4595.876853811375, 4593.974511560917, 4247.808447737729, 3950.78999703184, 3950.7407313151225, 3930.1011209494513, 3765.347401381732, 3733.0004737301247, 3607.6393540643344, 3555.1992289457326, 3504.21491040241, 3429.8790863055365, 3280.0815724060367, 2903.507675636838, 2859.126276845112, 2795.3017142271146, 2755.956201726242, 2739.7494884929947, 2470.3780838312555, 7438.963997397682, 9091.391810264022], \"Total\": [35554.0, 79825.0, 31585.0, 29995.0, 35833.0, 24976.0, 22633.0, 23694.0, 23447.0, 22061.0, 17715.0, 18210.0, 16862.0, 16083.0, 15907.0, 27644.0, 14567.0, 14228.0, 13946.0, 12460.0, 12233.0, 11718.0, 11513.0, 11643.0, 11282.0, 11182.0, 11166.0, 10485.0, 10511.0, 10562.0, 23447.118961743694, 15907.991895026433, 11166.443783965695, 10562.198177367707, 9466.611178978144, 8387.515124034739, 7754.550256501617, 7625.802899619234, 7536.401251630877, 7088.858986206352, 5591.185156675529, 5253.142348017923, 4647.0826977789875, 4557.361111782692, 4546.950818114037, 4519.9814067494035, 4272.19220736108, 3975.0448158200757, 3886.3941556095733, 3873.1394223441134, 3862.5654043718646, 3823.3424748167727, 3751.5760735603253, 3750.1725789838424, 3742.2629395639597, 3681.713399053832, 3426.724165510538, 3399.6408125336948, 3331.7889188001714, 3310.0127492034417, 31585.80510221047, 23694.35540266973, 10302.464998196168, 8354.040680063481, 8092.501505478868, 7496.358847924453, 6270.271111181128, 5694.836557770178, 5375.692491875034, 5244.419924629318, 4917.884925492767, 4654.497572104831, 4497.678932784929, 4487.8243183799905, 4416.102532822986, 4249.0920649348545, 4134.192089446385, 4121.710473662954, 3998.839171129595, 3946.327336509844, 3907.9619546142108, 3890.243015830866, 3841.3333324318996, 3689.072640104622, 3581.121755401573, 3322.6733005889264, 3312.9397242460577, 3308.485241896471, 3288.322811881983, 3254.1717535276634, 5834.735014286913, 5448.825742571266, 11282.263339561321, 11182.476604369598, 8917.149763618014, 7428.839296540765, 7152.684381590782, 7018.0606018197595, 6901.916141568108, 6127.867461226237, 6074.554913379864, 6055.313552083496, 6029.91555228147, 5864.271651349481, 5848.68008200008, 5709.129177873145, 5702.479806658979, 4977.991016243118, 4964.362039898209, 4749.237777233024, 4416.689039020477, 4375.31704540706, 4279.140340768834, 4264.448170578729, 4230.115503063585, 4049.209969373928, 4028.904240685657, 3932.7628290600237, 3904.089650058659, 3894.637855069072, 3567.0082471269593, 3384.0004157589105, 27644.31838767087, 29995.07189730062, 18210.741489507825, 11643.821911780451, 8529.770005073493, 8414.370225872028, 7533.680403225406, 6011.115025812689, 5857.399220077216, 5707.839982097152, 4758.805940365309, 4726.467358283404, 4700.094634697536, 4695.220849607697, 4686.267269626636, 4595.091896583989, 4592.81742248334, 4528.68319900387, 4441.549176438714, 3832.8493586578265, 3777.788455076463, 3618.9746196371016, 3592.9169606709593, 3500.9692795860524, 3420.5925379284745, 3353.3068024063896, 3291.36790684047, 3253.277543447413, 3128.7730497234634, 3025.415670425555, 3015.294061753961, 79825.19186339456, 10094.114528998567, 9839.800247508296, 9249.491933352576, 7667.089146999533, 6928.804124314761, 6551.4717059562445, 6181.984234214837, 6067.210221711358, 6052.843132431348, 6014.075598250959, 5961.9841347804495, 5881.5418224192435, 5869.568695437507, 5624.862939753056, 5606.600520195885, 5529.756688305231, 5160.746043280895, 5055.1805220355955, 4964.282864338977, 4627.85559115373, 4571.204282780338, 4553.920018096108, 4282.75074576363, 4128.647092768461, 4115.123978266382, 4076.318759078438, 3886.0422612368766, 3850.89070167728, 3742.55930419802, 3613.993789954083, 35833.88771665229, 22061.321686155752, 16862.42492745344, 8033.488591594279, 7974.0894789879585, 7574.048070060426, 6834.576626944869, 6431.1203627479945, 6322.127660279066, 6274.448745327966, 5722.061386866775, 5272.890338209359, 5096.72927461106, 4966.3625740578045, 4747.696774641812, 4498.1477427105065, 4248.463313832188, 4082.200974692648, 4043.213436941039, 3870.6349157321756, 3784.9947216044416, 3753.142619665258, 3749.316802240011, 3738.8620141542665, 3694.45666606956, 3685.534740639423, 3600.1116714441923, 3546.340533928481, 3465.8073994794145, 3335.710208483141, 3224.5221777791917, 27644.31838767087, 24976.76744192656, 16083.923141392963, 13946.828679160228, 10511.12029763464, 8688.159810878622, 8565.806435616221, 6583.498197594957, 6419.259613184286, 5924.539206960146, 5736.482250343629, 5204.8143129284945, 4630.051648802588, 4455.11897519236, 4318.409375570708, 4289.575077968435, 4266.238259792402, 3956.8130790980986, 3911.2407058080403, 3883.431154155125, 3755.527474975203, 3637.3393811147553, 3619.92618457469, 3392.183575292917, 3262.9812233805274, 3175.262960115466, 3118.8507388788717, 3034.270727103563, 3027.978659015914, 3001.7920252617287, 2930.447129730618, 79825.19186339456, 17715.83096121039, 12460.06445063459, 11718.72544951754, 10485.693245355043, 9296.64191991016, 8702.001243408584, 8289.10349637683, 8239.410427559322, 7060.542274838204, 6919.125367836143, 6701.178206247991, 5997.698044749569, 5957.999060577615, 4806.494430933679, 4742.2998185794195, 4565.974008760002, 4317.77815033553, 4085.2578034788116, 4004.208641131257, 3863.7192137798543, 3830.389749336641, 3781.6855390270593, 3555.418217514927, 3353.182439913891, 3272.8543064512787, 3028.806319180438, 3028.6499172764966, 2964.7853416391627, 2936.49426970532, 2793.159587314704, 79825.19186339456, 27644.31838767087, 35554.051614642995, 14567.78804585887, 11513.010237259006, 9055.09904734134, 7654.076837960409, 7451.404765489858, 7278.96517809084, 6823.289486477463, 6561.104070010466, 5496.612211457103, 4652.387159527326, 4542.591873367936, 4428.4662295038015, 4246.210168850488, 4148.132978057954, 4141.38336915991, 3488.0618752490036, 3281.3831197033833, 2827.801705339934, 2773.0951165343618, 2748.8219806736465, 2747.2227875936705, 2716.352736973681, 2709.505341168774, 2643.454255709688, 2617.7238810069675, 2564.736437422357, 2529.156591664225, 2416.1933782847523, 2412.461154923748, 22633.118545424004, 14228.447791026181, 12233.838574815634, 7944.690276877042, 7692.908999060821, 6483.809730634311, 6110.503443914475, 5959.753815754498, 5749.519900301279, 5121.9879872137835, 4608.7092929891805, 4596.640810442166, 4594.738484580276, 4248.572410215901, 3951.5539712420114, 3951.5047087370604, 3930.865099849154, 3766.1113557804497, 3733.76446061195, 3608.403296000349, 3555.9632157698125, 3504.9788999737284, 3430.643023334092, 3280.8455034905214, 2904.2717101078874, 2859.890248493233, 2796.065709104465, 2756.7201330516586, 2740.5134785471623, 2471.14205962177, 35833.88771665229, 79825.19186339456], \"Category\": [\"Default\", \"Default\", \"Default\", \"Default\", \"Default\", \"Default\", \"Default\", \"Default\", \"Default\", \"Default\", \"Default\", \"Default\", \"Default\", \"Default\", \"Default\", \"Default\", \"Default\", \"Default\", \"Default\", \"Default\", \"Default\", \"Default\", \"Default\", \"Default\", \"Default\", \"Default\", \"Default\", \"Default\", \"Default\", \"Default\", \"Topic1\", \"Topic1\", \"Topic1\", \"Topic1\", \"Topic1\", \"Topic1\", \"Topic1\", \"Topic1\", \"Topic1\", \"Topic1\", \"Topic1\", \"Topic1\", \"Topic1\", \"Topic1\", \"Topic1\", \"Topic1\", \"Topic1\", \"Topic1\", \"Topic1\", \"Topic1\", \"Topic1\", \"Topic1\", \"Topic1\", \"Topic1\", \"Topic1\", \"Topic1\", \"Topic1\", \"Topic1\", \"Topic1\", \"Topic1\", \"Topic2\", \"Topic2\", \"Topic2\", \"Topic2\", \"Topic2\", \"Topic2\", \"Topic2\", \"Topic2\", \"Topic2\", \"Topic2\", \"Topic2\", \"Topic2\", \"Topic2\", \"Topic2\", \"Topic2\", \"Topic2\", \"Topic2\", \"Topic2\", \"Topic2\", \"Topic2\", \"Topic2\", \"Topic2\", \"Topic2\", \"Topic2\", \"Topic2\", \"Topic2\", \"Topic2\", \"Topic2\", \"Topic2\", \"Topic2\", \"Topic2\", \"Topic2\", \"Topic3\", \"Topic3\", \"Topic3\", \"Topic3\", \"Topic3\", \"Topic3\", \"Topic3\", \"Topic3\", \"Topic3\", \"Topic3\", \"Topic3\", \"Topic3\", \"Topic3\", \"Topic3\", \"Topic3\", \"Topic3\", \"Topic3\", \"Topic3\", \"Topic3\", \"Topic3\", \"Topic3\", \"Topic3\", \"Topic3\", \"Topic3\", \"Topic3\", \"Topic3\", \"Topic3\", \"Topic3\", \"Topic3\", \"Topic3\", \"Topic3\", \"Topic4\", \"Topic4\", \"Topic4\", \"Topic4\", \"Topic4\", \"Topic4\", \"Topic4\", \"Topic4\", \"Topic4\", \"Topic4\", \"Topic4\", \"Topic4\", \"Topic4\", \"Topic4\", \"Topic4\", \"Topic4\", \"Topic4\", \"Topic4\", \"Topic4\", \"Topic4\", \"Topic4\", \"Topic4\", \"Topic4\", \"Topic4\", \"Topic4\", \"Topic4\", \"Topic4\", \"Topic4\", \"Topic4\", \"Topic4\", \"Topic4\", \"Topic5\", \"Topic5\", \"Topic5\", \"Topic5\", \"Topic5\", \"Topic5\", \"Topic5\", \"Topic5\", \"Topic5\", \"Topic5\", \"Topic5\", \"Topic5\", \"Topic5\", \"Topic5\", \"Topic5\", \"Topic5\", \"Topic5\", \"Topic5\", \"Topic5\", \"Topic5\", \"Topic5\", \"Topic5\", \"Topic5\", \"Topic5\", \"Topic5\", \"Topic5\", \"Topic5\", \"Topic5\", \"Topic5\", \"Topic5\", \"Topic5\", \"Topic6\", \"Topic6\", \"Topic6\", \"Topic6\", \"Topic6\", \"Topic6\", \"Topic6\", \"Topic6\", \"Topic6\", \"Topic6\", \"Topic6\", \"Topic6\", \"Topic6\", \"Topic6\", \"Topic6\", \"Topic6\", \"Topic6\", \"Topic6\", \"Topic6\", \"Topic6\", \"Topic6\", \"Topic6\", \"Topic6\", \"Topic6\", \"Topic6\", \"Topic6\", \"Topic6\", \"Topic6\", \"Topic6\", \"Topic6\", \"Topic6\", \"Topic7\", \"Topic7\", \"Topic7\", \"Topic7\", \"Topic7\", \"Topic7\", \"Topic7\", \"Topic7\", \"Topic7\", \"Topic7\", \"Topic7\", \"Topic7\", \"Topic7\", \"Topic7\", \"Topic7\", \"Topic7\", \"Topic7\", \"Topic7\", \"Topic7\", \"Topic7\", \"Topic7\", \"Topic7\", \"Topic7\", \"Topic7\", \"Topic7\", \"Topic7\", \"Topic7\", \"Topic7\", \"Topic7\", \"Topic7\", \"Topic7\", \"Topic8\", \"Topic8\", \"Topic8\", \"Topic8\", \"Topic8\", \"Topic8\", \"Topic8\", \"Topic8\", \"Topic8\", \"Topic8\", \"Topic8\", \"Topic8\", \"Topic8\", \"Topic8\", \"Topic8\", \"Topic8\", \"Topic8\", \"Topic8\", \"Topic8\", \"Topic8\", \"Topic8\", \"Topic8\", \"Topic8\", \"Topic8\", \"Topic8\", \"Topic8\", \"Topic8\", \"Topic8\", \"Topic8\", \"Topic8\", \"Topic8\", \"Topic8\", \"Topic9\", \"Topic9\", \"Topic9\", \"Topic9\", \"Topic9\", \"Topic9\", \"Topic9\", \"Topic9\", \"Topic9\", \"Topic9\", \"Topic9\", \"Topic9\", \"Topic9\", \"Topic9\", \"Topic9\", \"Topic9\", \"Topic9\", \"Topic9\", \"Topic9\", \"Topic9\", \"Topic9\", \"Topic9\", \"Topic9\", \"Topic9\", \"Topic9\", \"Topic9\", \"Topic9\", \"Topic9\", \"Topic9\", \"Topic9\", \"Topic10\", \"Topic10\", \"Topic10\", \"Topic10\", \"Topic10\", \"Topic10\", \"Topic10\", \"Topic10\", \"Topic10\", \"Topic10\", \"Topic10\", \"Topic10\", \"Topic10\", \"Topic10\", \"Topic10\", \"Topic10\", \"Topic10\", \"Topic10\", \"Topic10\", \"Topic10\", \"Topic10\", \"Topic10\", \"Topic10\", \"Topic10\", \"Topic10\", \"Topic10\", \"Topic10\", \"Topic10\", \"Topic10\", \"Topic10\", \"Topic10\", \"Topic10\"], \"logprob\": [30.0, 29.0, 28.0, 27.0, 26.0, 25.0, 24.0, 23.0, 22.0, 21.0, 20.0, 19.0, 18.0, 17.0, 16.0, 15.0, 14.0, 13.0, 12.0, 11.0, 10.0, 9.0, 8.0, 7.0, 6.0, 5.0, 4.0, 3.0, 2.0, 1.0, -3.3037, -3.6917, -4.0456, -4.1012, -4.2107, -4.3318, -4.4102, -4.427, -4.4388, -4.5, -4.7374, -4.7997, -4.9224, -4.9418, -4.9441, -4.9501, -5.0065, -5.0786, -5.1011, -5.1046, -5.1073, -5.1175, -5.1365, -5.1368, -5.1389, -5.1553, -5.227, -5.235, -5.2551, -5.2617, -2.9996, -3.2871, -4.12, -4.3296, -4.3615, -4.438, -4.6166, -4.7129, -4.7706, -4.7953, -4.8596, -4.9146, -4.9489, -4.9511, -4.9672, -5.0058, -5.0332, -5.0362, -5.0665, -5.0797, -5.0895, -5.094, -5.1067, -5.1471, -5.1768, -5.2518, -5.2547, -5.256, -5.2621, -5.2726, -5.0295, -5.0757, -4.0264, -4.0352, -4.2616, -4.4443, -4.4821, -4.5011, -4.5178, -4.6368, -4.6455, -4.6487, -4.6529, -4.6808, -4.6834, -4.7076, -4.7088, -4.8446, -4.8474, -4.8917, -4.9643, -4.9737, -4.9959, -4.9994, -5.0075, -5.0512, -5.0562, -5.0804, -5.0877, -5.0901, -5.178, -5.2307, -3.862, -3.0444, -3.5435, -3.9907, -4.302, -4.3156, -4.4262, -4.652, -4.6779, -4.7038, -4.8856, -4.8924, -4.898, -4.8991, -4.901, -4.9206, -4.9211, -4.9352, -4.9546, -5.102, -5.1165, -5.1595, -5.1667, -5.1926, -5.2159, -5.2357, -5.2544, -5.266, -5.3051, -5.3387, -5.342, -2.8831, -4.1125, -4.138, -4.1999, -4.3876, -4.4888, -4.5448, -4.6029, -4.6216, -4.624, -4.6304, -4.6391, -4.6527, -4.6547, -4.6973, -4.7006, -4.7144, -4.7835, -4.8041, -4.8223, -4.8925, -4.9048, -4.9086, -4.97, -5.0066, -5.0099, -5.0194, -5.0672, -5.0763, -5.1048, -5.1398, -3.0802, -3.3124, -3.5811, -4.3226, -4.33, -4.3815, -4.4843, -4.5451, -4.5622, -4.5698, -4.6619, -4.7437, -4.7777, -4.8036, -4.8486, -4.9026, -4.9598, -4.9997, -5.0093, -5.0529, -5.0753, -5.0838, -5.0848, -5.0876, -5.0995, -5.1019, -5.1254, -5.1404, -5.1634, -5.2017, -5.2356, -4.7456, -3.1776, -3.6177, -3.7603, -4.0431, -4.2336, -4.2478, -4.511, -4.5363, -4.6165, -4.6488, -4.746, -4.8631, -4.9016, -4.9328, -4.9395, -4.9449, -5.0202, -5.0318, -5.0389, -5.0724, -5.1044, -5.1092, -5.1742, -5.2131, -5.2403, -5.2583, -5.2858, -5.2878, -5.2965, -5.3206, -3.8624, -3.5042, -3.8562, -3.9175, -4.0287, -4.1491, -4.2152, -4.2638, -4.2698, -4.4242, -4.4445, -4.4765, -4.5874, -4.5941, -4.8088, -4.8223, -4.8602, -4.9161, -4.9715, -4.9915, -5.0272, -5.0359, -5.0487, -5.1104, -5.169, -5.1932, -5.2707, -5.2708, -5.2921, -5.3017, -5.3518, -3.254, -4.1721, -2.8058, -3.698, -3.9334, -4.1736, -4.3417, -4.3685, -4.3919, -4.4566, -4.4958, -4.6728, -4.8396, -4.8635, -4.8889, -4.9309, -4.9543, -4.9559, -5.1277, -5.1888, -5.3376, -5.3571, -5.3659, -5.3665, -5.3778, -5.3803, -5.405, -5.4148, -5.4352, -5.4492, -5.4949, -5.4965, -3.2216, -3.6857, -3.8368, -4.2685, -4.3007, -4.4717, -4.531, -4.556, -4.592, -4.7075, -4.8132, -4.8158, -4.8162, -4.8945, -4.967, -4.967, -4.9723, -5.0151, -5.0237, -5.0579, -5.0725, -5.087, -5.1084, -5.1531, -5.275, -5.2904, -5.313, -5.3272, -5.3331, -5.4366, -4.3342, -4.1336], \"loglift\": [30.0, 29.0, 28.0, 27.0, 26.0, 25.0, 24.0, 23.0, 22.0, 21.0, 20.0, 19.0, 18.0, 17.0, 16.0, 15.0, 14.0, 13.0, 12.0, 11.0, 10.0, 9.0, 8.0, 7.0, 6.0, 5.0, 4.0, 3.0, 2.0, 1.0, 2.2576, 2.2576, 2.2576, 2.2576, 2.2576, 2.2576, 2.2576, 2.2576, 2.2576, 2.2576, 2.2575, 2.2575, 2.2575, 2.2575, 2.2575, 2.2575, 2.2575, 2.2575, 2.2575, 2.2575, 2.2575, 2.2575, 2.2575, 2.2575, 2.2575, 2.2575, 2.2575, 2.2575, 2.2574, 2.2574, 2.2638, 2.2638, 2.2637, 2.2637, 2.2637, 2.2637, 2.2637, 2.2637, 2.2637, 2.2637, 2.2636, 2.2636, 2.2636, 2.2636, 2.2636, 2.2636, 2.2636, 2.2636, 2.2636, 2.2636, 2.2636, 2.2636, 2.2636, 2.2636, 2.2636, 2.2636, 2.2636, 2.2636, 2.2636, 2.2636, 1.9227, 1.945, 2.2665, 2.2665, 2.2665, 2.2665, 2.2665, 2.2665, 2.2665, 2.2665, 2.2665, 2.2665, 2.2665, 2.2665, 2.2665, 2.2664, 2.2664, 2.2664, 2.2664, 2.2664, 2.2664, 2.2664, 2.2664, 2.2664, 2.2664, 2.2664, 2.2664, 2.2664, 2.2664, 2.2664, 2.2664, 2.2664, 1.5347, 2.2706, 2.2706, 2.2706, 2.2706, 2.2706, 2.2705, 2.2705, 2.2705, 2.2705, 2.2705, 2.2705, 2.2705, 2.2705, 2.2705, 2.2705, 2.2705, 2.2705, 2.2705, 2.2704, 2.2704, 2.2704, 2.2704, 2.2704, 2.2704, 2.2704, 2.2704, 2.2704, 2.2704, 2.2704, 2.2704, 1.4532, 2.2916, 2.2916, 2.2916, 2.2916, 2.2916, 2.2916, 2.2916, 2.2916, 2.2916, 2.2916, 2.2916, 2.2916, 2.2916, 2.2916, 2.2916, 2.2916, 2.2916, 2.2916, 2.2916, 2.2915, 2.2915, 2.2915, 2.2915, 2.2915, 2.2915, 2.2915, 2.2915, 2.2915, 2.2915, 2.2915, 2.057, 2.3099, 2.3099, 2.3099, 2.3099, 2.3099, 2.3098, 2.3098, 2.3098, 2.3098, 2.3098, 2.3098, 2.3098, 2.3098, 2.3098, 2.3098, 2.3098, 2.3098, 2.3098, 2.3098, 2.3098, 2.3098, 2.3098, 2.3098, 2.3097, 2.3097, 2.3097, 2.3097, 2.3097, 2.3097, 2.3097, 0.6511, 2.3206, 2.3206, 2.3206, 2.3206, 2.3205, 2.3205, 2.3205, 2.3205, 2.3205, 2.3205, 2.3205, 2.3205, 2.3205, 2.3205, 2.3204, 2.3204, 2.3204, 2.3204, 2.3204, 2.3204, 2.3204, 2.3204, 2.3204, 2.3204, 2.3204, 2.3204, 2.3204, 2.3204, 2.3204, 2.3204, 0.4738, 2.3374, 2.3374, 2.3374, 2.3374, 2.3374, 2.3374, 2.3374, 2.3373, 2.3373, 2.3373, 2.3373, 2.3373, 2.3373, 2.3373, 2.3373, 2.3373, 2.3373, 2.3373, 2.3373, 2.3372, 2.3372, 2.3372, 2.3372, 2.3372, 2.3372, 2.3372, 2.3372, 2.3372, 2.3372, 2.3372, 1.0822, 1.2246, 2.3393, 2.3393, 2.3392, 2.3392, 2.3392, 2.3392, 2.3392, 2.3392, 2.3392, 2.3392, 2.3391, 2.3391, 2.3391, 2.3391, 2.3391, 2.3391, 2.3391, 2.3391, 2.339, 2.339, 2.339, 2.339, 2.339, 2.339, 2.339, 2.339, 2.339, 2.339, 2.339, 2.339, 2.3751, 2.3751, 2.3751, 2.3751, 2.3751, 2.375, 2.375, 2.375, 2.375, 2.375, 2.375, 2.375, 2.375, 2.375, 2.375, 2.375, 2.375, 2.375, 2.375, 2.375, 2.375, 2.3749, 2.3749, 2.3749, 2.3749, 2.3749, 2.3749, 2.3749, 2.3749, 2.3749, 0.803, 0.2027]}, \"token.table\": {\"Topic\": [8, 4, 3, 3, 7, 6, 2, 9, 7, 1, 1, 4, 4, 1, 10, 7, 1, 7, 1, 9, 2, 10, 4, 6, 5, 10, 1, 6, 5, 9, 5, 9, 8, 6, 3, 8, 7, 3, 2, 5, 5, 2, 7, 3, 8, 5, 1, 7, 1, 1, 10, 6, 7, 4, 5, 6, 4, 3, 3, 3, 10, 3, 4, 6, 7, 8, 10, 5, 3, 1, 3, 5, 10, 8, 10, 6, 9, 7, 7, 7, 9, 3, 9, 7, 7, 4, 9, 9, 7, 1, 6, 8, 9, 2, 8, 6, 8, 2, 6, 2, 4, 2, 1, 10, 1, 5, 1, 8, 6, 10, 10, 8, 2, 10, 4, 6, 2, 2, 2, 3, 7, 7, 6, 8, 9, 2, 9, 4, 4, 5, 1, 5, 7, 6, 3, 7, 6, 3, 9, 5, 2, 9, 2, 1, 4, 6, 7, 10, 9, 8, 1, 7, 7, 1, 6, 10, 6, 7, 1, 2, 3, 10, 4, 9, 5, 8, 1, 4, 5, 10, 10, 3, 8, 1, 10, 8, 10, 4, 10, 1, 1, 5, 5, 4, 8, 3, 5, 4, 3, 6, 8, 2, 6, 6, 4, 8, 3, 5, 3, 6, 2, 10, 2, 1, 5, 2, 8, 9, 6, 2, 10, 6, 9, 1, 10, 2, 2, 7, 4, 6, 5, 8, 7, 3, 9, 9, 5, 5, 10, 2, 4, 8, 6, 8, 3, 9, 1, 3, 7, 6, 7, 4, 8, 9, 4, 9, 1, 7, 4, 2, 5, 2, 2, 9, 3, 10, 4, 8, 2, 9, 3, 2, 6, 7, 5, 4, 4, 4, 2, 10, 6, 9, 9, 4, 5, 3, 10, 5, 1, 9, 10, 10, 10, 5, 8, 3, 8, 8, 9, 3, 8, 4, 5, 2, 10, 5, 1, 10, 3, 6, 6, 7, 5, 1, 9, 8, 8, 2, 8, 3, 8, 7, 3, 9, 4], \"Freq\": [0.9998373540330149, 0.9997784001982994, 0.9999270722209018, 0.999948218687472, 0.9997097537181475, 0.9997870892737221, 0.9999548653456964, 0.9998786266902665, 0.9998435462094254, 0.9998464449210066, 0.999920762964831, 0.9998306423133433, 0.9998528371328232, 0.9999104252838901, 0.9997207115929468, 0.9998659359125363, 0.9997828737198038, 0.9999171847753182, 0.9998947127758476, 0.9999704220870692, 0.9999850005343597, 0.9998460972597557, 0.9999011189017132, 0.999695556555919, 0.9998554388697607, 0.999537841372849, 0.9998536194697896, 0.9998909455494933, 0.9998465847501888, 0.9997268703621734, 0.9999468150946971, 0.999700969841108, 0.9998187213029787, 0.9999391806450326, 0.9999158599985889, 0.9998668738570687, 0.9996827845941064, 0.9998837204308416, 0.999875427939205, 0.999768702425937, 0.9998895862539141, 0.9999521303699926, 0.9998037759398766, 0.9998870218472548, 0.9999338865501, 0.999843267599792, 0.9998788258860808, 0.9998595470333481, 0.9999354384619175, 0.9997209377988597, 0.9999176100759789, 0.9998569132139915, 0.9999405829684087, 0.9997671036899012, 0.9999430201004442, 0.9996998830361137, 0.9997306917733512, 0.999802215392582, 0.9999573793546402, 0.9999536768816946, 0.9998071086429234, 0.9998362222386757, 0.44156486413863133, 0.0017788870491286216, 0.15774468818751833, 0.28502280381531264, 0.11388635326498801, 0.999903111205096, 0.9998009204436319, 0.9999376480052933, 0.0015627665198598131, 0.7908156721390605, 0.20759678823637767, 0.9998849410175226, 0.9997952574084373, 0.999835965998861, 0.9998317249659989, 0.9996767946124718, 0.9998474192808047, 0.9998889759756231, 0.9998886202203192, 0.999720895226204, 0.9999122525527046, 0.9999243263110273, 0.9999052022318625, 0.9999294121993038, 0.9999074296857506, 0.999506091567224, 0.9997272268056093, 0.9999385844285082, 0.9998380604162719, 0.999735110118047, 0.9999459049063325, 0.9997429886389455, 0.9997866810546592, 0.9997058021640548, 0.9998323160901073, 0.9996804786164237, 0.999974800335345, 0.9997116511713552, 0.9997912918931701, 0.9996399226542382, 0.9997825400603595, 0.9999131146900652, 0.9996873266605346, 0.9998005307765623, 0.9997886711986256, 0.999882371780381, 0.9998633726156662, 0.999839276036546, 0.9998735156219868, 0.9998971327355552, 0.9998533341209064, 0.999812634182907, 0.9999085075048398, 0.9997670385609033, 0.9997503380379438, 0.9998163211566428, 0.999917052874247, 0.9998672627210593, 0.9999426047124916, 0.9996992862314081, 0.9998145097028824, 0.9999380948448136, 0.9996050923288451, 0.7110862772415153, 0.2887877505789234, 0.9998145059929978, 0.9999146880511404, 0.999928000001005, 0.9997371562162224, 0.9998505556886186, 0.9998934178657539, 0.9997371933971892, 0.9999043182175711, 0.999748833824957, 0.999861623526715, 0.9997755616337253, 0.9998593118434521, 0.9997664728231861, 0.9997973617843178, 0.9998697058013496, 0.999716347315594, 0.9997880312237355, 0.9998882206879075, 0.9998216327888868, 0.9999066952298932, 0.9997799212572349, 0.9997234693039172, 0.9996473678557373, 0.9999297378168756, 0.999772864563431, 0.9999159327402085, 0.9998062317794711, 0.999903975964738, 0.9997422909766334, 0.999928480517384, 0.9996510874878537, 0.9998115058122222, 0.9997092385514557, 0.9999275377295476, 0.9998751149913476, 0.9999560007627322, 0.9995549004619528, 0.9998607047278608, 0.9997389720496892, 0.9999522772181298, 0.9999429674810977, 0.9998211531874871, 0.999859809268444, 0.9999685284696717, 0.9997173409599568, 0.9996981573040821, 0.9997670155989467, 0.9998652699870374, 0.9998241792395713, 0.9999095750062101, 0.9997447865672944, 0.9999064446666812, 0.999946758191678, 0.9999602573590768, 0.9998579451759786, 0.9999218022197779, 0.9999642642196596, 0.9999145710169632, 0.9998710615332822, 0.999815121466762, 0.9999318434577845, 0.481002997199249, 0.1903465271311159, 0.32863895837821894, 0.9996867586532402, 0.9997448410376546, 0.9999156309196102, 0.9999024765916893, 0.9997854102341809, 0.9999086495409496, 0.9997268664875424, 0.9998949053756072, 0.9996912119551707, 0.9997538474976516, 0.9998818393586962, 0.9999380283737324, 0.9997058142710948, 0.9998631606510225, 0.9999745106319796, 0.9998138545427191, 0.9998281582861868, 0.9999269940419375, 0.9998711808988181, 0.9998605915779387, 0.9998549082624221, 0.9997150002467222, 0.9998985806395874, 0.999618854055899, 0.9999132248094469, 0.9999199292514037, 0.9998665067282522, 0.9997623776393241, 0.999985418545619, 0.9997317936432979, 0.9998836145560579, 0.9997441426903574, 0.9998481649911127, 0.9999456793044269, 0.9998088446220961, 0.9997979722760936, 0.9999186723827551, 0.9997291266215744, 0.9998490481879486, 0.9997399803658226, 0.9998982481256095, 0.9998763915479767, 0.9996921116024207, 0.9998488753688612, 0.9998832444461963, 0.9997632146515286, 0.9997393734971626, 0.9999107768792203, 0.999831147975351, 0.9999692737689797, 0.9999096851486938, 0.9999231964320734, 0.9997164916696881, 0.9998763547544115, 0.999894719869219, 0.9996940346517743, 0.9997945116229033, 0.9998626071684568, 0.9998200597398731, 0.999840789918326, 0.9997901463165477, 0.9998930986433824, 0.9999167826077129, 0.9998060322747186, 0.999931454480905, 0.9998491395900645, 0.9999501872660757, 0.9999018308419062, 0.9995426966965838, 0.999701183840038, 0.9998531024092278, 0.9998532394390616, 0.9997361491885303, 0.9998247047731245, 0.9999592828491771, 0.9997529224040294, 0.9999097273346134, 0.9999567624467395, 0.9997049062878228, 0.9998257904245605, 0.9996955686891512, 0.9998134932007345, 0.9998267733084534, 0.999834931667344, 0.9997043689018915, 0.9998722742918806, 0.999736550216127, 0.999929040823334, 0.9997128603892347, 0.9999505792619007, 0.9998882342223786, 0.9997387717951399, 0.9997250161422951, 0.9998316803440008, 0.9997335117154328, 0.9997337831820635, 0.9999530949910161, 0.9998674017436235, 0.9997362948924736, 0.9998197799172546, 0.9998220215592855, 0.9998928904968846, 0.9998276264993637, 0.9996887123575103, 0.9998839447182611, 0.999790888850117, 0.9998125647787548, 0.9998584399496684, 0.9997694447799884, 0.9999155040086712, 0.9999089875277537, 0.9999078774859378, 0.9998865598479042, 0.9999575737658447, 0.9995848474537687, 0.9999367778101577, 0.726945618585855, 0.27290283636383905, 0.9999766589776009, 0.9999309514214175, 0.999905854092982, 0.9998439919554242, 0.9998701431633381, 0.9997231396482956], \"Term\": [\"abc\", \"aboriginal\", \"abuse\", \"accused\", \"act\", \"action\", \"adelaide\", \"afl\", \"aged\", \"ahead\", \"alan\", \"alleged\", \"amid\", \"andrews\", \"announces\", \"arrested\", \"assault\", \"asx\", \"attack\", \"australia\", \"australian\", \"australians\", \"australias\", \"baby\", \"ban\", \"bay\", \"beach\", \"biden\", \"big\", \"black\", \"border\", \"boy\", \"briefing\", \"brisbane\", \"budget\", \"bushfire\", \"bushfires\", \"business\", \"calls\", \"campaign\", \"canberra\", \"car\", \"care\", \"case\", \"cases\", \"centre\", \"change\", \"changes\", \"charged\", \"charges\", \"child\", \"children\", \"china\", \"chinese\", \"christmas\", \"city\", \"claims\", \"climate\", \"coast\", \"commission\", \"community\", \"concerns\", \"coronavirus\", \"coronavirus\", \"coronavirus\", \"coronavirus\", \"coronavirus\", \"council\", \"country\", \"court\", \"covid\", \"covid\", \"covid\", \"crash\", \"cricket\", \"crisis\", \"cup\", \"cut\", \"cuts\", \"daniel\", \"darwin\", \"david\", \"day\", \"dead\", \"deal\", \"death\", \"deaths\", \"defence\", \"despite\", \"dies\", \"dog\", \"domestic\", \"donald\", \"driver\", \"drought\", \"drug\", \"drum\", \"east\", \"election\", \"emergency\", \"end\", \"energy\", \"face\", \"family\", \"farm\", \"farmers\", \"fatal\", \"fears\", \"federal\", \"fight\", \"final\", \"finance\", \"finds\", \"fires\", \"food\", \"free\", \"friday\", \"funding\", \"future\", \"gold\", \"government\", \"grand\", \"guilty\", \"health\", \"hears\", \"help\", \"help\", \"high\", \"history\", \"hit\", \"hits\", \"hobart\", \"home\", \"hong\", \"hospital\", \"hotel\", \"house\", \"india\", \"indigenous\", \"industry\", \"inquest\", \"inquiry\", \"international\", \"interview\", \"investigation\", \"island\", \"jail\", \"jailed\", \"job\", \"jobs\", \"joe\", \"john\", \"killed\", \"kohler\", \"kong\", \"korea\", \"labor\", \"latest\", \"law\", \"laws\", \"league\", \"life\", \"live\", \"local\", \"lockdown\", \"make\", \"man\", \"market\", \"markets\", \"media\", \"melbourne\", \"men\", \"mental\", \"michael\", \"million\", \"minister\", \"missing\", \"monday\", \"morning\", \"morrison\", \"murder\", \"national\", \"near\", \"new\", \"news\", \"north\", \"northern\", \"nrl\", \"nsw\", \"nsw\", \"nsw\", \"officer\", \"old\", \"open\", \"outback\", \"outbreak\", \"pandemic\", \"park\", \"parliament\", \"party\", \"pay\", \"people\", \"perth\", \"peter\", \"plan\", \"police\", \"port\", \"post\", \"power\", \"premier\", \"president\", \"prison\", \"program\", \"protest\", \"protesters\", \"protests\", \"public\", \"qld\", \"quarantine\", \"queensland\", \"rain\", \"record\", \"records\", \"regional\", \"report\", \"research\", \"residents\", \"restrictions\", \"return\", \"review\", \"rise\", \"risk\", \"river\", \"road\", \"royal\", \"rules\", \"run\", \"rural\", \"russia\", \"say\", \"says\", \"school\", \"scott\", \"sea\", \"season\", \"second\", \"security\", \"sentenced\", \"service\", \"set\", \"sex\", \"sexual\", \"shooting\", \"shows\", \"social\", \"south\", \"speaks\", \"state\", \"station\", \"stories\", \"storm\", \"street\", \"students\", \"super\", \"support\", \"sydney\", \"takes\", \"tasmania\", \"tasmanian\", \"tax\", \"test\", \"testing\", \"thousands\", \"thursday\", \"time\", \"told\", \"trade\", \"travel\", \"trial\", \"truck\", \"trump\", \"tuesday\", \"turnbull\", \"update\", \"use\", \"vaccine\", \"victims\", \"victoria\", \"victorian\", \"video\", \"violence\", \"wall\", \"war\", \"warning\", \"warns\", \"water\", \"weather\", \"wednesday\", \"west\", \"western\", \"white\", \"win\", \"wins\", \"woman\", \"women\", \"womens\", \"work\", \"workers\", \"workers\", \"world\", \"year\", \"years\", \"young\", \"youth\", \"zealand\"]}, \"R\": 30, \"lambda.step\": 0.01, \"plot.opts\": {\"xlab\": \"PC1\", \"ylab\": \"PC2\"}, \"topic.order\": [6, 1, 4, 10, 2, 7, 8, 3, 9, 5]};\n",
       "\n",
       "function LDAvis_load_lib(url, callback){\n",
       "  var s = document.createElement('script');\n",
       "  s.src = url;\n",
       "  s.async = true;\n",
       "  s.onreadystatechange = s.onload = callback;\n",
       "  s.onerror = function(){console.warn(\"failed to load library \" + url);};\n",
       "  document.getElementsByTagName(\"head\")[0].appendChild(s);\n",
       "}\n",
       "\n",
       "if(typeof(LDAvis) !== \"undefined\"){\n",
       "   // already loaded: just create the visualization\n",
       "   !function(LDAvis){\n",
       "       new LDAvis(\"#\" + \"ldavis_el31544140203338374944949244007\", ldavis_el31544140203338374944949244007_data);\n",
       "   }(LDAvis);\n",
       "}else if(typeof define === \"function\" && define.amd){\n",
       "   // require.js is available: use it to load d3/LDAvis\n",
       "   require.config({paths: {d3: \"https://d3js.org/d3.v5\"}});\n",
       "   require([\"d3\"], function(d3){\n",
       "      window.d3 = d3;\n",
       "      LDAvis_load_lib(\"https://cdn.jsdelivr.net/gh/bmabey/pyLDAvis@3.3.1/pyLDAvis/js/ldavis.v3.0.0.js\", function(){\n",
       "        new LDAvis(\"#\" + \"ldavis_el31544140203338374944949244007\", ldavis_el31544140203338374944949244007_data);\n",
       "      });\n",
       "    });\n",
       "}else{\n",
       "    // require.js not available: dynamically load d3 & LDAvis\n",
       "    LDAvis_load_lib(\"https://d3js.org/d3.v5.js\", function(){\n",
       "         LDAvis_load_lib(\"https://cdn.jsdelivr.net/gh/bmabey/pyLDAvis@3.3.1/pyLDAvis/js/ldavis.v3.0.0.js\", function(){\n",
       "                 new LDAvis(\"#\" + \"ldavis_el31544140203338374944949244007\", ldavis_el31544140203338374944949244007_data);\n",
       "            })\n",
       "         });\n",
       "}\n",
       "</script>"
      ],
      "text/plain": [
       "PreparedData(topic_coordinates=               x          y  topics  cluster       Freq\n",
       "topic                                                  \n",
       "5      32.420952   8.115230       1        1  10.459366\n",
       "0       0.648955  71.707100       2        1  10.395441\n",
       "3      71.019684   9.971006       3        1  10.366614\n",
       "9       3.785981  33.185135       4        1  10.324580\n",
       "1     -42.666500  -9.222070       5        1  10.109415\n",
       "6      -3.621689 -43.526516       6        1   9.926577\n",
       "7      -3.632402  -4.171708       7        1   9.821199\n",
       "2     -36.584400  35.804413       8        1   9.657433\n",
       "8      44.391380  50.615383       9        1   9.639470\n",
       "4      40.235809 -31.591665      10        1   9.299904, topic_info=              Term          Freq         Total Category  logprob  loglift\n",
       "2002     australia  35554.000000  35554.000000  Default  30.0000  30.0000\n",
       "7614   coronavirus  79825.000000  79825.000000  Default  29.0000  29.0000\n",
       "25526       police  31585.000000  31585.000000  Default  28.0000  28.0000\n",
       "22842          new  29995.000000  29995.000000  Default  27.0000  27.0000\n",
       "7803         covid  35833.000000  35833.000000  Default  26.0000  26.0000\n",
       "...            ...           ...           ...      ...      ...      ...\n",
       "34852     turnbull   2755.956202   2756.720133  Topic10  -5.3272   2.3749\n",
       "12353        fires   2739.749488   2740.513479  Topic10  -5.3331   2.3749\n",
       "2751           bay   2470.378084   2471.142060  Topic10  -5.4366   2.3749\n",
       "7803         covid   7438.963997  35833.887717  Topic10  -4.3342   0.8030\n",
       "7614   coronavirus   9091.391810  79825.191863  Topic10  -4.1336   0.2027\n",
       "\n",
       "[341 rows x 6 columns], token_table=       Topic      Freq        Term\n",
       "term                              \n",
       "33         8  0.999837         abc\n",
       "89         4  0.999778  aboriginal\n",
       "134        3  0.999927       abuse\n",
       "216        3  0.999948     accused\n",
       "274        7  0.999710         act\n",
       "...      ...       ...         ...\n",
       "37525      8  0.999931        year\n",
       "37528      7  0.999906       years\n",
       "37599      3  0.999844       young\n",
       "37612      9  0.999870       youth\n",
       "37683      4  0.999723     zealand\n",
       "\n",
       "[315 rows x 3 columns], R=30, lambda_step=0.01, plot_opts={'xlab': 'PC1', 'ylab': 'PC2'}, topic_order=[6, 1, 4, 10, 2, 7, 8, 3, 9, 5])"
      ]
     },
     "execution_count": 64,
     "metadata": {},
     "output_type": "execute_result"
    }
   ],
   "source": [
    "pyLDAvis.enable_notebook()\n",
    "dash = pyLDAvis.sklearn.prepare(lda_model, data_vectorized, vectorizer, mds='tsne')\n",
    "dash"
   ]
  },
  {
   "cell_type": "code",
   "execution_count": null,
   "id": "6328ea84",
   "metadata": {},
   "outputs": [],
   "source": []
  }
 ],
 "metadata": {
  "kernelspec": {
   "display_name": "Python 3",
   "language": "python",
   "name": "python3"
  },
  "language_info": {
   "codemirror_mode": {
    "name": "ipython",
    "version": 3
   },
   "file_extension": ".py",
   "mimetype": "text/x-python",
   "name": "python",
   "nbconvert_exporter": "python",
   "pygments_lexer": "ipython3",
   "version": "3.8.8"
  }
 },
 "nbformat": 4,
 "nbformat_minor": 5
}
